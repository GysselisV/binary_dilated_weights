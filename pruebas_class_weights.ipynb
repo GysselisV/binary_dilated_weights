{
 "cells": [
  {
   "cell_type": "code",
   "execution_count": 2,
   "id": "eda836d6-4bd9-47b1-8d91-a49f8db1711e",
   "metadata": {},
   "outputs": [
    {
     "name": "stdout",
     "output_type": "stream",
     "text": [
      "^C\n"
     ]
    }
   ],
   "source": [
    "!python class_weights_playground.py --dataroot ./datasets/ncct_dwi_norm/ --name p2p_basic_prueba_NCCT2DWI --model pix2pix --direction AtoB --display_id -1 --gpu_ids -1"
   ]
  },
  {
   "cell_type": "code",
   "execution_count": 2,
   "id": "3a507141-52e7-434e-bfab-a65cb124bb36",
   "metadata": {},
   "outputs": [
    {
     "data": {
      "text/plain": [
       "\u001b[0;31mSignature:\u001b[0m \u001b[0mcreate_dataset\u001b[0m\u001b[0;34m(\u001b[0m\u001b[0mopt\u001b[0m\u001b[0;34m)\u001b[0m\u001b[0;34m\u001b[0m\u001b[0;34m\u001b[0m\u001b[0m\n",
       "\u001b[0;31mDocstring:\u001b[0m\n",
       "Create a dataset given the option.\n",
       "\n",
       "This function wraps the class CustomDatasetDataLoader.\n",
       "    This is the main interface between this package and 'train.py'/'test.py'\n",
       "\n",
       "Example:\n",
       "    >>> from data import create_dataset\n",
       "    >>> dataset = create_dataset(opt)\n",
       "\u001b[0;31mFile:\u001b[0m      /home/gustavo_pupils/Gyss/trabajo_pregrado/pytorch-cyclegan-and-pix2pix/data/__init__.py\n",
       "\u001b[0;31mType:\u001b[0m      function"
      ]
     },
     "metadata": {},
     "output_type": "display_data"
    }
   ],
   "source": [
    "create_dataset?"
   ]
  },
  {
   "cell_type": "code",
   "execution_count": 4,
   "id": "6fe5f14d-2c8a-4714-bca8-3e515dba5cc8",
   "metadata": {},
   "outputs": [
    {
     "name": "stderr",
     "output_type": "stream",
     "text": [
      "usage: ipykernel_launcher.py [-h] --dataroot DATAROOT [--segroot SEGROOT]\n",
      "                             [--name NAME] [--gpu_ids GPU_IDS]\n",
      "                             [--checkpoints_dir CHECKPOINTS_DIR]\n",
      "                             [--model MODEL] [--input_nc INPUT_NC]\n",
      "                             [--output_nc OUTPUT_NC] [--ngf NGF] [--ndf NDF]\n",
      "                             [--netD NETD] [--netG NETG]\n",
      "                             [--n_layers_D N_LAYERS_D] [--norm NORM]\n",
      "                             [--init_type INIT_TYPE] [--init_gain INIT_GAIN]\n",
      "                             [--no_dropout] [--dataset_mode DATASET_MODE]\n",
      "                             [--direction DIRECTION] [--serial_batches]\n",
      "                             [--num_threads NUM_THREADS]\n",
      "                             [--batch_size BATCH_SIZE] [--load_size LOAD_SIZE]\n",
      "                             [--crop_size CROP_SIZE]\n",
      "                             [--max_dataset_size MAX_DATASET_SIZE]\n",
      "                             [--preprocess PREPROCESS] [--no_flip]\n",
      "                             [--display_winsize DISPLAY_WINSIZE]\n",
      "                             [--epoch EPOCH] [--load_iter LOAD_ITER]\n",
      "                             [--verbose] [--suffix SUFFIX] [--use_wandb]\n",
      "                             [--wandb_project_name WANDB_PROJECT_NAME]\n",
      "                             [--display_freq DISPLAY_FREQ]\n",
      "                             [--display_ncols DISPLAY_NCOLS]\n",
      "                             [--display_id DISPLAY_ID]\n",
      "                             [--display_server DISPLAY_SERVER]\n",
      "                             [--display_env DISPLAY_ENV]\n",
      "                             [--display_port DISPLAY_PORT]\n",
      "                             [--update_html_freq UPDATE_HTML_FREQ]\n",
      "                             [--print_freq PRINT_FREQ] [--no_html]\n",
      "                             [--save_latest_freq SAVE_LATEST_FREQ]\n",
      "                             [--save_epoch_freq SAVE_EPOCH_FREQ]\n",
      "                             [--save_by_iter] [--continue_train]\n",
      "                             [--epoch_count EPOCH_COUNT] [--phase PHASE]\n",
      "                             [--n_epochs N_EPOCHS]\n",
      "                             [--n_epochs_decay N_EPOCHS_DECAY] [--beta1 BETA1]\n",
      "                             [--lr LR] [--gan_mode GAN_MODE]\n",
      "                             [--pool_size POOL_SIZE] [--lr_policy LR_POLICY]\n",
      "                             [--lr_decay_iters LR_DECAY_ITERS]\n",
      "ipykernel_launcher.py: error: the following arguments are required: --dataroot\n"
     ]
    },
    {
     "ename": "SystemExit",
     "evalue": "2",
     "output_type": "error",
     "traceback": [
      "An exception has occurred, use %tb to see the full traceback.\n",
      "\u001b[0;31mSystemExit\u001b[0m\u001b[0;31m:\u001b[0m 2\n"
     ]
    },
    {
     "name": "stderr",
     "output_type": "stream",
     "text": [
      "/opt/conda/lib/python3.10/site-packages/IPython/core/interactiveshell.py:3534: UserWarning: To exit: use 'exit', 'quit', or Ctrl-D.\n",
      "  warn(\"To exit: use 'exit', 'quit', or Ctrl-D.\", stacklevel=1)\n"
     ]
    }
   ],
   "source": [
    "import time\n",
    "from options.train_options import TrainOptions\n",
    "from data import create_dataset\n",
    "\n",
    "opt = TrainOptions().parse()\n",
    "dataset = create_dataset(\"aligned\")  # create a dataset given opt.dataset_mode and other options\n",
    "dataset_size = len(dataset)"
   ]
  },
  {
   "cell_type": "code",
   "execution_count": null,
   "id": "9ee09c79-3cb1-44ee-99b0-5910a40158d0",
   "metadata": {},
   "outputs": [],
   "source": []
  }
 ],
 "metadata": {
  "kernelspec": {
   "display_name": "Python 3 (ipykernel)",
   "language": "python",
   "name": "python3"
  },
  "language_info": {
   "codemirror_mode": {
    "name": "ipython",
    "version": 3
   },
   "file_extension": ".py",
   "mimetype": "text/x-python",
   "name": "python",
   "nbconvert_exporter": "python",
   "pygments_lexer": "ipython3",
   "version": "3.10.13"
  }
 },
 "nbformat": 4,
 "nbformat_minor": 5
}
