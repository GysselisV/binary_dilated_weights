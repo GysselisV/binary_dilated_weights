{
 "cells": [
  {
   "cell_type": "code",
   "execution_count": 1,
   "id": "5975dc87-8c4d-4499-a208-29714cde6c87",
   "metadata": {},
   "outputs": [],
   "source": [
    "import os\n",
    "import shutil"
   ]
  },
  {
   "cell_type": "markdown",
   "id": "37121afa-6b47-4ca2-a2cf-5f074cd94333",
   "metadata": {},
   "source": [
    "# **Organize by patient folder**"
   ]
  },
  {
   "cell_type": "code",
   "execution_count": 18,
   "id": "d0003709-b02b-4e81-b216-6d76e4b79139",
   "metadata": {},
   "outputs": [
    {
     "name": "stdout",
     "output_type": "stream",
     "text": [
      "Imágenes organizadas correctamente en la ruta original 'images'.\n"
     ]
    }
   ],
   "source": [
    "# Ruta de las imágenes\n",
    "ruta_imagenes = \"results/p2p_esp_w_dilated_NCCT_DWI/test_latest/images\"\n",
    "\n",
    "# Eliminar archivos checkpoint\n",
    "for archivo in os.listdir(ruta_imagenes):\n",
    "    if \"checkpoint\" in archivo:\n",
    "        os.remove(os.path.join(ruta_imagenes, archivo))\n",
    "\n",
    "# Crear directorios para real_A, fake_B y real_B dentro de la ruta original\n",
    "for carpeta in [\"real_A\", \"fake_B\", \"real_B\"]:\n",
    "    os.makedirs(os.path.join(ruta_imagenes, carpeta), exist_ok=True)\n",
    "\n",
    "# Obtener la lista de archivos en la ruta\n",
    "archivos = os.listdir(ruta_imagenes)\n",
    "\n",
    "# Organizar los archivos en las carpetas correspondientes\n",
    "for archivo in archivos:\n",
    "    if archivo.endswith(\"real_A.png\"):\n",
    "        # Extraer el ID del paciente\n",
    "        id_paciente = archivo.split(\"_\")[1]\n",
    "        # Crear una carpeta para el paciente si no existe\n",
    "        carpeta_paciente = os.path.join(ruta_imagenes, \"real_A\", id_paciente)\n",
    "        os.makedirs(carpeta_paciente, exist_ok=True)\n",
    "        # Mover el archivo a la carpeta del paciente\n",
    "        shutil.move(os.path.join(ruta_imagenes, archivo), os.path.join(carpeta_paciente, archivo))\n",
    "    elif archivo.endswith(\"fake_B.png\"):\n",
    "        # Extraer el ID del paciente\n",
    "        id_paciente = archivo.split(\"_\")[1]\n",
    "        # Crear una carpeta para el paciente si no existe\n",
    "        carpeta_paciente = os.path.join(ruta_imagenes, \"fake_B\", id_paciente)\n",
    "        os.makedirs(carpeta_paciente, exist_ok=True)\n",
    "        # Mover el archivo a la carpeta del paciente\n",
    "        shutil.move(os.path.join(ruta_imagenes, archivo), os.path.join(carpeta_paciente, archivo))\n",
    "    elif archivo.endswith(\"real_B.png\"):\n",
    "        # Extraer el ID del paciente\n",
    "        id_paciente = archivo.split(\"_\")[1]\n",
    "        # Crear una carpeta para el paciente si no existe\n",
    "        carpeta_paciente = os.path.join(ruta_imagenes, \"real_B\", id_paciente)\n",
    "        os.makedirs(carpeta_paciente, exist_ok=True)\n",
    "        # Mover el archivo a la carpeta del paciente\n",
    "        shutil.move(os.path.join(ruta_imagenes, archivo), os.path.join(carpeta_paciente, archivo))\n",
    "\n",
    "print(\"Imágenes organizadas correctamente en la ruta original 'images'.\")"
   ]
  },
  {
   "cell_type": "markdown",
   "id": "07166ec1-b04c-4d61-8cb2-750045e6352e",
   "metadata": {},
   "source": [
    "# **Grayscale**"
   ]
  },
  {
   "cell_type": "code",
   "execution_count": 19,
   "id": "cb9b1096-eb3d-4198-81f6-ef1aacaf4140",
   "metadata": {},
   "outputs": [
    {
     "name": "stdout",
     "output_type": "stream",
     "text": [
      "Proceso completado. Las imágenes se han convertido a escala de grises y se han guardado en la carpeta de salida.\n"
     ]
    }
   ],
   "source": [
    "import os\n",
    "import cv2\n",
    "\n",
    "input_path = \"results/p2p_esp_w_dilated_NCCT_DWI/test_latest/images\"\n",
    "output_path = \"results/p2p_esp_w_dilated_NCCT_DWI/test_latest/images_grayscale\"\n",
    "\n",
    "# Función para convertir una imagen a escala de grises y guardarla\n",
    "def convert_to_grayscale(input_folder, output_folder):\n",
    "    # Recorre las carpetas de los pacientes\n",
    "    for patient_folder in os.listdir(input_folder):\n",
    "        patient_input_folder = os.path.join(input_folder, patient_folder)\n",
    "        patient_output_folder = os.path.join(output_folder, patient_folder)\n",
    "\n",
    "        # Crea las carpetas de salida si no existen\n",
    "        os.makedirs(patient_output_folder, exist_ok=True)\n",
    "\n",
    "        # Recorre las imágenes del paciente\n",
    "        for image_file in os.listdir(patient_input_folder):\n",
    "            image_path = os.path.join(patient_input_folder, image_file)\n",
    "\n",
    "            # Lee la imagen en color\n",
    "            color_image = cv2.imread(image_path)\n",
    "\n",
    "            # Convierte la imagen a escala de grises\n",
    "            grayscale_image = cv2.cvtColor(color_image, cv2.COLOR_BGR2GRAY)\n",
    "\n",
    "            # Guarda la imagen en escala de grises en la carpeta de salida\n",
    "            output_image_path = os.path.join(patient_output_folder, image_file)\n",
    "            cv2.imwrite(output_image_path, grayscale_image)\n",
    "\n",
    "# Ejecuta la función para convertir todas las imágenes a escala de grises\n",
    "convert_to_grayscale(os.path.join(input_path, \"real_A\"), os.path.join(output_path, \"real_A\"))\n",
    "convert_to_grayscale(os.path.join(input_path, \"real_B\"), os.path.join(output_path, \"real_B\"))\n",
    "convert_to_grayscale(os.path.join(input_path, \"fake_B\"), os.path.join(output_path, \"fake_B\"))\n",
    "\n",
    "print(\"Proceso completado. Las imágenes se han convertido a escala de grises y se han guardado en la carpeta de salida.\")"
   ]
  },
  {
   "cell_type": "markdown",
   "id": "a772ba47-6e2b-4ac7-8d0a-7eb284520abe",
   "metadata": {},
   "source": [
    "# **ORGANIZING MAKS**"
   ]
  },
  {
   "cell_type": "code",
   "execution_count": 5,
   "id": "51beccd9-3560-4b1a-99d0-86d80d98546e",
   "metadata": {},
   "outputs": [
    {
     "name": "stdout",
     "output_type": "stream",
     "text": [
      "Máscaras copiadas, organizadas y convertidas a escala de grises correctamente por paciente.\n"
     ]
    }
   ],
   "source": [
    "import os\n",
    "import shutil\n",
    "import cv2\n",
    "\n",
    "ruta_mascaras = \"datasets/masks_flair/test\"\n",
    "nueva_ruta_mascaras = \"datasets/masks_flair_test_organizado\"\n",
    "\n",
    "# Crear la nueva ruta si no existe\n",
    "os.makedirs(nueva_ruta_mascaras, exist_ok=True)\n",
    "\n",
    "# Obtener la lista de archivos en la ruta\n",
    "archivos = os.listdir(ruta_mascaras)\n",
    "\n",
    "# Organizar los archivos en las carpetas correspondientes\n",
    "for archivo in archivos:\n",
    "    if archivo.endswith(\".png\"):\n",
    "        # Extraer el ID del paciente\n",
    "        id_paciente = archivo.split(\"_\")[1]  # El ID del paciente es el segundo parámetro\n",
    "        # Crear una carpeta para el paciente si no existe\n",
    "        carpeta_paciente = os.path.join(nueva_ruta_mascaras, id_paciente)\n",
    "        os.makedirs(carpeta_paciente, exist_ok=True)\n",
    "        # Leer la máscara\n",
    "        mask_path = os.path.join(ruta_mascaras, archivo)\n",
    "        color_mask = cv2.imread(mask_path)\n",
    "        # Convertir la máscara a escala de grises\n",
    "        grayscale_mask = cv2.cvtColor(color_mask, cv2.COLOR_BGR2GRAY)\n",
    "        # Guardar la máscara en escala de grises en la carpeta del paciente\n",
    "        output_mask_path = os.path.join(carpeta_paciente, archivo)\n",
    "        cv2.imwrite(output_mask_path, grayscale_mask)\n",
    "\n",
    "print(\"Máscaras copiadas, organizadas y convertidas a escala de grises correctamente por paciente.\")"
   ]
  }
 ],
 "metadata": {
  "kernelspec": {
   "display_name": "Python 3 (ipykernel)",
   "language": "python",
   "name": "python3"
  },
  "language_info": {
   "codemirror_mode": {
    "name": "ipython",
    "version": 3
   },
   "file_extension": ".py",
   "mimetype": "text/x-python",
   "name": "python",
   "nbconvert_exporter": "python",
   "pygments_lexer": "ipython3",
   "version": "3.10.13"
  }
 },
 "nbformat": 4,
 "nbformat_minor": 5
}
