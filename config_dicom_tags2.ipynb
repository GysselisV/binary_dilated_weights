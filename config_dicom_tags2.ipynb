{
 "cells": [
  {
   "cell_type": "markdown",
   "metadata": {},
   "source": [
    "# Dicom modification "
   ]
  },
  {
   "cell_type": "code",
   "execution_count": 23,
   "metadata": {},
   "outputs": [
    {
     "name": "stdout",
     "output_type": "stream",
     "text": [
      "ACV-106 ......\n",
      "Already exists.\n",
      "Already exists.\n",
      "Already exists.\n"
     ]
    }
   ],
   "source": [
    "from pydicom.fileset import FileSet\n",
    "import numpy as np\n",
    "import os\n",
    "from tqdm import tqdm\n",
    "import pydicom\n",
    "#import pydicom_seg\n",
    "import subprocess\n",
    "import SimpleITK as sitk\n",
    "import nibabel as nib\n",
    "from copy import deepcopy\n",
    "import logging\n",
    "from glob import glob\n",
    "from pathlib import Path\n",
    "\n",
    "# data_path = Path('/data/Datasets/stroke/Foscal_uploaded_data/ZIP DICOM/')\n",
    "# dump_dir = Path('/data/sangohe_pupils/srazul/dicomdump')\n",
    "# radiologists = ['Andres', 'Daniel']\n",
    "\n",
    "mypath = \"/data/Datasets/stroke/clinical_validation\"\n",
    "mypath_output = \"dicom\"\n",
    "mypath_output2 = \"dicom2\"\n",
    "mylist = os.listdir(mypath)\n",
    "mylist.sort()\n",
    "\n",
    "for fn in mylist:\n",
    "    print(fn, \"......\")\n",
    "    temp_list = next(os.walk(os.path.join(mypath,fn,mypath_output)))[1]    \n",
    "    for myfilename in temp_list:\n",
    "        if not os.path.isdir(os.path.join(mypath,fn,mypath_output2,myfilename)):\n",
    "            os.makedirs(os.path.join(mypath,fn,mypath_output2,myfilename))\n",
    "        else:\n",
    "            print(\"Already exists.\")\n",
    "        mylist2 = os.listdir(os.path.join(mypath,fn,mypath_output,myfilename))\n",
    "        for myfn2 in mylist2:\n",
    "            ds = pydicom.dcmread(os.path.join(mypath,fn,mypath_output,myfilename,myfn2))\n",
    "            ds.PatientID = fn\n",
    "            ds.StudyDescription = \"Validation\"\n",
    "            ds.save_as(os.path.join(mypath,fn,mypath_output2,myfilename,myfn2))\n",
    "            # for instance in check:\n",
    "            #     temp = instance.load()\n",
    "            #     temp.PatientID = fn\n",
    "            #     temp.StudyDescription = \"Validation\"\n",
    "            #     # modality = temp.modality.replace(' ', '_')\n",
    "            #     # img_output_file = Path(os.path.join(output_dir, modality, get_image_id(output_dir, patient_id)))\n",
    "            #     # img_output_file.mkdir(exist_ok = True)\n",
    "            #     x = \"\"\n",
    "            #     #temp.save_as(os.path.join(mypath,fn,mypath_output2,myfilename,x))\n",
    "    break\n",
    "\n",
    "\n",
    "# for rad in radiologists:\n",
    "#     output_dir = dump_dir / rad\n",
    "#     output_dir.mkdir(exist_ok=True)\n",
    "#     for patient_id in tqdm([p for p in os.listdir(data_path) if p in selected_patients], f'rad: {rad}'):\n",
    "#         pat_path = data_path / patient_id\n",
    "#         dicomdir_list = glob(f'{pat_path}/**/DICOMDIR')\n",
    "#         for dicomdir in dicomdir_list:\n",
    "#             check = FileSet(dicomdir)\n",
    "#             for instance in check:\n",
    "#                 temp = instance.load()\n",
    "#                 #pname = str(instance.PatientName).replace('ACV', rad)\n",
    "#                 temp.PatientID = rad\n",
    "#                 temp.StudyDescription = experiment_keyword\n",
    "#                 modality = temp.modality.replace(' ', '_')\n",
    "#                 img_output_file = Path(os.path.join(output_dir, modality, get_image_id(output_dir, patient_id)))\n",
    "#                 img_output_file.mkdir(exist_ok = True)\n",
    "#                 temp.save_as(img_output_file)\n",
    "#main()"
   ]
  },
  {
   "cell_type": "markdown",
   "metadata": {},
   "source": [
    "# Testing dicom metadata"
   ]
  },
  {
   "cell_type": "code",
   "execution_count": 29,
   "metadata": {},
   "outputs": [
    {
     "name": "stdout",
     "output_type": "stream",
     "text": [
      "/data/Datasets/stroke/clinical_validation/ACV-106/dicom2/ACV-106_mask/I00012.dcm\n",
      "ACV-106\n",
      "Validation\n"
     ]
    }
   ],
   "source": [
    "print(os.path.join(mypath,fn,mypath_output2,myfilename,myfn2))\n",
    "ds = pydicom.dcmread(os.path.join(mypath,fn,mypath_output2,myfilename,myfn2))\n",
    "print(ds.PatientID)\n",
    "print(ds.StudyDescription)"
   ]
  },
  {
   "cell_type": "code",
   "execution_count": null,
   "metadata": {},
   "outputs": [],
   "source": []
  }
 ],
 "metadata": {
  "kernelspec": {
   "display_name": "Python 3",
   "language": "python",
   "name": "python3"
  },
  "language_info": {
   "codemirror_mode": {
    "name": "ipython",
    "version": 3
   },
   "file_extension": ".py",
   "mimetype": "text/x-python",
   "name": "python",
   "nbconvert_exporter": "python",
   "pygments_lexer": "ipython3",
   "version": "3.6.8"
  }
 },
 "nbformat": 4,
 "nbformat_minor": 5
}
