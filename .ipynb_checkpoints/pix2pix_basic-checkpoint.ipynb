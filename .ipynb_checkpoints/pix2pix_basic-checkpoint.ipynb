{
 "cells": [
  {
   "cell_type": "code",
   "execution_count": 2,
   "id": "99a9d582-035b-4bfe-9528-70ad17807be7",
   "metadata": {},
   "outputs": [
    {
     "name": "stderr",
     "output_type": "stream",
     "text": [
      "2024-02-16 09:20:09.218587: I external/local_xla/xla/stream_executor/cuda/cuda_executor.cc:901] successful NUMA node read from SysFS had negative value (-1), but there must be at least one NUMA node, so returning NUMA node zero. See more at https://github.com/torvalds/linux/blob/v6.0/Documentation/ABI/testing/sysfs-bus-pci#L344-L355\n",
      "2024-02-16 09:20:09.224840: W tensorflow/core/common_runtime/gpu/gpu_device.cc:2256] Cannot dlopen some GPU libraries. Please make sure the missing libraries mentioned above are installed properly if you would like to use GPU. Follow the guide at https://www.tensorflow.org/install/gpu for how to download and setup the required libraries for your platform.\n",
      "Skipping registering GPU devices...\n"
     ]
    }
   ],
   "source": [
    "import os\n",
    "os.environ['CUDA_DEVICE_ORDER'] = 'PCI_BUS_ID'\n",
    "os.environ['CUDA_VISIBLE_DEVICES'] = '0'\n",
    "os.environ['TF_CPP_MIN_LOG_LEVEL'] = '3' \n",
    "\n",
    "import tensorflow as tf\n",
    "gpus = tf.config.list_physical_devices('GPU')\n",
    "\n",
    "if gpus:\n",
    "    try:\n",
    "        logical_gpus = tf.config.list_logical_devices('GPU')\n",
    "        print(len(gpus), \"Physical GPUs,\", len(logical_gpus), \"Logical GPU\")\n",
    "    except RuntimeError as e:\n",
    "        print(e)"
   ]
  },
  {
   "cell_type": "code",
   "execution_count": 3,
   "id": "11b1fd61-f657-4d1b-beec-d4fe7e7fa933",
   "metadata": {},
   "outputs": [],
   "source": [
    "import tensorflow as tf\n",
    "from tensorflow.keras import layers, Model\n",
    "import numpy as np\n",
    "import matplotlib.pyplot as plt\n",
    "import os\n",
    "from PIL import Image"
   ]
  },
  {
   "cell_type": "code",
   "execution_count": 4,
   "id": "35fcc2ef-b9ef-41b1-893e-20d3b9ccb915",
   "metadata": {},
   "outputs": [],
   "source": [
    "def build_generator():\n",
    "    inputs = tf.keras.layers.Input(shape=[1024, 512, 3])\n",
    "\n",
    "    # Encoder\n",
    "    down_stack = [\n",
    "        downsample(64, 4, apply_batchnorm=False),  # (batch_size, 512, 256, 64)\n",
    "        downsample(128, 4),  # (batch_size, 256, 128, 128)\n",
    "        downsample(256, 4),  # (batch_size, 128, 64, 256)\n",
    "        downsample(512, 4),  # (batch_size, 64, 32, 512)\n",
    "        downsample(512, 4),  # (batch_size, 32, 16, 512)\n",
    "        downsample(512, 4),  # (batch_size, 16, 8, 512)\n",
    "        downsample(512, 4),  # (batch_size, 8, 4, 512)\n",
    "        downsample(512, 4),  # (batch_size, 4, 2, 512)\n",
    "    ]\n",
    "\n",
    "    # Decoder\n",
    "    up_stack = [\n",
    "        upsample(512, 4, apply_dropout=True),  # (batch_size, 8, 4, 1024)\n",
    "        upsample(512, 4, apply_dropout=True),  # (batch_size, 16, 8, 1024)\n",
    "        upsample(512, 4, apply_dropout=True),  # (batch_size, 32, 16, 1024)\n",
    "        upsample(512, 4),  # (batch_size, 64, 32, 1024)\n",
    "        upsample(256, 4),  # (batch_size, 128, 64, 512)\n",
    "        upsample(128, 4),  # (batch_size, 256, 128, 256)\n",
    "        upsample(64, 4),  # (batch_size, 512, 256, 128)\n",
    "    ]\n",
    "\n",
    "    initializer = tf.random_normal_initializer(0., 0.02)\n",
    "    last = tf.keras.layers.Conv2DTranspose(3, 4,\n",
    "                                            strides=2,\n",
    "                                            padding='same',\n",
    "                                            kernel_initializer=initializer,\n",
    "                                            activation='tanh')  # (batch_size, 1024, 512, 3)\n",
    "\n",
    "    x = inputs\n",
    "\n",
    "    # Downsampling through the model\n",
    "    skips = []\n",
    "    for down in down_stack:\n",
    "        x = down(x)\n",
    "        skips.append(x)\n",
    "\n",
    "    skips = reversed(skips[:-1])\n",
    "\n",
    "    # Upsampling and establishing the skip connections\n",
    "    for up, skip in zip(up_stack, skips):\n",
    "        x = up(x)\n",
    "        x = tf.keras.layers.Concatenate()([x, skip])\n",
    "\n",
    "    x = last(x)\n",
    "\n",
    "    return tf.keras.Model(inputs=inputs, outputs=x)\n",
    "\n",
    "def downsample(filters, size, apply_batchnorm=True):\n",
    "    initializer = tf.random_normal_initializer(0., 0.02)\n",
    "\n",
    "    result = tf.keras.Sequential()\n",
    "    result.add(tf.keras.layers.Conv2D(filters, size, strides=2, padding='same', kernel_initializer=initializer, use_bias=False))\n",
    "\n",
    "    if apply_batchnorm:\n",
    "        result.add(tf.keras.layers.BatchNormalization())\n",
    "\n",
    "    result.add(tf.keras.layers.LeakyReLU())\n",
    "\n",
    "    return result\n",
    "\n",
    "def upsample(filters, size, apply_dropout=False):\n",
    "    initializer = tf.random_normal_initializer(0., 0.02)\n",
    "\n",
    "    result = tf.keras.Sequential()\n",
    "    result.add(tf.keras.layers.Conv2DTranspose(filters, size, strides=2, padding='same', kernel_initializer=initializer, use_bias=False))\n",
    "\n",
    "    result.add(tf.keras.layers.BatchNormalization())\n",
    "\n",
    "    if apply_dropout:\n",
    "        result.add(tf.keras.layers.Dropout(0.5))\n",
    "\n",
    "    result.add(tf.keras.layers.ReLU())\n",
    "\n",
    "    return result\n",
    "\n",
    "def build_discriminator():\n",
    "    initializer = tf.random_normal_initializer(0., 0.02)\n",
    "\n",
    "    inp = tf.keras.layers.Input(shape=[1024, 512, 3], name='input_image')\n",
    "    tar = tf.keras.layers.Input(shape=[1024, 512, 3], name='target_image')\n",
    "\n",
    "    x = tf.keras.layers.concatenate([inp, tar])  # (batch_size, 1024, 512, channels*2)\n",
    "\n",
    "    down1 = downsample(64, 4, False)(x)  # (batch_size, 512, 256, 64)\n",
    "    down2 = downsample(128, 4)(down1)  # (batch_size, 256, 128, 128)\n",
    "    down3 = downsample(256, 4)(down2)  # (batch_size, 128, 64, 256)\n",
    "\n",
    "    zero_pad1 = tf.keras.layers.ZeroPadding2D()(down3)  # (batch_size, 130, 66, 256)\n",
    "    conv = tf.keras.layers.Conv2D(512, 4, strides=1, kernel_initializer=initializer, use_bias=False)(zero_pad1)  # (batch_size, 127, 63, 512)\n",
    "\n",
    "    batchnorm1 = tf.keras.layers.BatchNormalization()(conv)\n",
    "\n",
    "    leaky_relu = tf.keras.layers.LeakyReLU()(batchnorm1)\n",
    "\n",
    "    zero_pad2 = tf.keras.layers.ZeroPadding2D()(leaky_relu)  # (batch_size, 129, 65, 512)\n",
    "\n",
    "    last = tf.keras.layers.Conv2D(1, 4, strides=1, kernel_initializer=initializer)(zero_pad2)  # (batch_size, 126, 62, 1)\n",
    "\n",
    "    return tf.keras.Model(inputs=[inp, tar], outputs=last)"
   ]
  },
  {
   "cell_type": "code",
   "execution_count": 5,
   "id": "222acdee-9a93-427a-811e-0465b40af45c",
   "metadata": {},
   "outputs": [],
   "source": [
    "# Paso 4: Define las funciones de pérdida y optimización\n",
    "\n",
    "# Define la función de pérdida para el generador y el discriminador\n",
    "def generator_loss(disc_generated_output, gen_output, target):\n",
    "    return tf.losses.BinaryCrossentropy(from_logits=True)(tf.ones_like(disc_generated_output), disc_generated_output) + 100 * tf.losses.MeanAbsoluteError()(target, gen_output)\n",
    "\n",
    "def discriminator_loss(disc_real_output, disc_generated_output):\n",
    "    real_loss = tf.losses.BinaryCrossentropy(from_logits=True)(tf.ones_like(disc_real_output), disc_real_output)\n",
    "    generated_loss = tf.losses.BinaryCrossentropy(from_logits=True)(tf.zeros_like(disc_generated_output), disc_generated_output)\n",
    "    total_disc_loss = real_loss + generated_loss\n",
    "    return total_disc_loss\n",
    "\n",
    "# Define los optimizadores para el generador y el discriminador\n",
    "generator_optimizer = tf.keras.optimizers.Adam(2e-4, beta_1=0.5)\n",
    "discriminator_optimizer = tf.keras.optimizers.Adam(2e-4, beta_1=0.5)"
   ]
  },
  {
   "cell_type": "code",
   "execution_count": 6,
   "id": "0c68f2e3-d161-498f-8d9b-97e56c66a0b1",
   "metadata": {},
   "outputs": [],
   "source": [
    "# Paso 5: Define la función de carga de datos\n",
    "\n",
    "def load_data(data_dir, batch_size):\n",
    "    train_dataset = tf.keras.preprocessing.image_dataset_from_directory(\n",
    "        data_dir,\n",
    "        seed=123,\n",
    "        image_size=(1024, 512),\n",
    "        batch_size=batch_size)\n",
    "    return train_dataset"
   ]
  },
  {
   "cell_type": "code",
   "execution_count": 7,
   "id": "992509c8-e195-4fdc-b7f8-4fdf8781c6ec",
   "metadata": {},
   "outputs": [],
   "source": [
    "# Paso 6: Define la función de entrenamiento\n",
    "\n",
    "@tf.function\n",
    "def train_step(input_image, target):\n",
    "    with tf.GradientTape() as gen_tape, tf.GradientTape() as disc_tape:\n",
    "        gen_output = generator(input_image, training=True)\n",
    "\n",
    "        disc_real_output = discriminator([input_image, target], training=True)\n",
    "        disc_generated_output = discriminator([input_image, gen_output], training=True)\n",
    "\n",
    "        gen_loss = generator_loss(disc_generated_output, gen_output, target)\n",
    "        disc_loss = discriminator_loss(disc_real_output, disc_generated_output)\n",
    "\n",
    "    generator_gradients = gen_tape.gradient(gen_loss, generator.trainable_variables)\n",
    "    discriminator_gradients = disc_tape.gradient(disc_loss, discriminator.trainable_variables)\n",
    "\n",
    "    generator_optimizer.apply_gradients(zip(generator_gradients, generator.trainable_variables))\n",
    "    discriminator_optimizer.apply_gradients(zip(discriminator_gradients, discriminator.trainable_variables))"
   ]
  },
  {
   "cell_type": "code",
   "execution_count": 8,
   "id": "5dbe21a3-3629-4b07-ad4c-10f5f85fc740",
   "metadata": {},
   "outputs": [],
   "source": [
    "# Paso 7: Define la función de prueba\n",
    "\n",
    "def test_step(input_image, target):\n",
    "    # Implementa el paso de prueba\n",
    "    pass"
   ]
  },
  {
   "cell_type": "code",
   "execution_count": 12,
   "id": "450a8b53-aec6-4643-9c8c-4fbd410051d2",
   "metadata": {},
   "outputs": [
    {
     "name": "stdout",
     "output_type": "stream",
     "text": [
      "Found 0 files belonging to 0 classes.\n"
     ]
    },
    {
     "ename": "ValueError",
     "evalue": "No images found in directory datasets/prueba/train. Allowed formats: ('.bmp', '.gif', '.jpeg', '.jpg', '.png')",
     "output_type": "error",
     "traceback": [
      "\u001b[0;31m---------------------------------------------------------------------------\u001b[0m",
      "\u001b[0;31mValueError\u001b[0m                                Traceback (most recent call last)",
      "Cell \u001b[0;32mIn[12], line 6\u001b[0m\n\u001b[1;32m      3\u001b[0m BATCH_SIZE \u001b[38;5;241m=\u001b[39m \u001b[38;5;241m1\u001b[39m\n\u001b[1;32m      5\u001b[0m \u001b[38;5;66;03m# Carga los datos\u001b[39;00m\n\u001b[0;32m----> 6\u001b[0m train_dataset \u001b[38;5;241m=\u001b[39m \u001b[43mload_data\u001b[49m\u001b[43m(\u001b[49m\u001b[38;5;124;43m'\u001b[39;49m\u001b[38;5;124;43mdatasets/prueba/train\u001b[39;49m\u001b[38;5;124;43m'\u001b[39;49m\u001b[43m,\u001b[49m\u001b[43m \u001b[49m\u001b[43mBATCH_SIZE\u001b[49m\u001b[43m)\u001b[49m\n\u001b[1;32m      7\u001b[0m test_dataset \u001b[38;5;241m=\u001b[39m load_data(\u001b[38;5;124m'\u001b[39m\u001b[38;5;124mdatasets/prueba/test\u001b[39m\u001b[38;5;124m'\u001b[39m, BATCH_SIZE)\n\u001b[1;32m      9\u001b[0m generator \u001b[38;5;241m=\u001b[39m build_generator()\n",
      "Cell \u001b[0;32mIn[6], line 4\u001b[0m, in \u001b[0;36mload_data\u001b[0;34m(data_dir, batch_size)\u001b[0m\n\u001b[1;32m      3\u001b[0m \u001b[38;5;28;01mdef\u001b[39;00m \u001b[38;5;21mload_data\u001b[39m(data_dir, batch_size):\n\u001b[0;32m----> 4\u001b[0m     train_dataset \u001b[38;5;241m=\u001b[39m \u001b[43mtf\u001b[49m\u001b[38;5;241;43m.\u001b[39;49m\u001b[43mkeras\u001b[49m\u001b[38;5;241;43m.\u001b[39;49m\u001b[43mpreprocessing\u001b[49m\u001b[38;5;241;43m.\u001b[39;49m\u001b[43mimage_dataset_from_directory\u001b[49m\u001b[43m(\u001b[49m\n\u001b[1;32m      5\u001b[0m \u001b[43m        \u001b[49m\u001b[43mdata_dir\u001b[49m\u001b[43m,\u001b[49m\n\u001b[1;32m      6\u001b[0m \u001b[43m        \u001b[49m\u001b[43mseed\u001b[49m\u001b[38;5;241;43m=\u001b[39;49m\u001b[38;5;241;43m123\u001b[39;49m\u001b[43m,\u001b[49m\n\u001b[1;32m      7\u001b[0m \u001b[43m        \u001b[49m\u001b[43mimage_size\u001b[49m\u001b[38;5;241;43m=\u001b[39;49m\u001b[43m(\u001b[49m\u001b[38;5;241;43m1024\u001b[39;49m\u001b[43m,\u001b[49m\u001b[43m \u001b[49m\u001b[38;5;241;43m512\u001b[39;49m\u001b[43m)\u001b[49m\u001b[43m,\u001b[49m\n\u001b[1;32m      8\u001b[0m \u001b[43m        \u001b[49m\u001b[43mbatch_size\u001b[49m\u001b[38;5;241;43m=\u001b[39;49m\u001b[43mbatch_size\u001b[49m\u001b[43m)\u001b[49m\n\u001b[1;32m      9\u001b[0m     \u001b[38;5;28;01mreturn\u001b[39;00m train_dataset\n",
      "File \u001b[0;32m/opt/conda/lib/python3.10/site-packages/keras/src/utils/image_dataset.py:303\u001b[0m, in \u001b[0;36mimage_dataset_from_directory\u001b[0;34m(directory, labels, label_mode, class_names, color_mode, batch_size, image_size, shuffle, seed, validation_split, subset, interpolation, follow_links, crop_to_aspect_ratio, **kwargs)\u001b[0m\n\u001b[1;32m    299\u001b[0m image_paths, labels \u001b[38;5;241m=\u001b[39m dataset_utils\u001b[38;5;241m.\u001b[39mget_training_or_validation_split(\n\u001b[1;32m    300\u001b[0m     image_paths, labels, validation_split, subset\n\u001b[1;32m    301\u001b[0m )\n\u001b[1;32m    302\u001b[0m \u001b[38;5;28;01mif\u001b[39;00m \u001b[38;5;129;01mnot\u001b[39;00m image_paths:\n\u001b[0;32m--> 303\u001b[0m     \u001b[38;5;28;01mraise\u001b[39;00m \u001b[38;5;167;01mValueError\u001b[39;00m(\n\u001b[1;32m    304\u001b[0m         \u001b[38;5;124mf\u001b[39m\u001b[38;5;124m\"\u001b[39m\u001b[38;5;124mNo images found in directory \u001b[39m\u001b[38;5;132;01m{\u001b[39;00mdirectory\u001b[38;5;132;01m}\u001b[39;00m\u001b[38;5;124m. \u001b[39m\u001b[38;5;124m\"\u001b[39m\n\u001b[1;32m    305\u001b[0m         \u001b[38;5;124mf\u001b[39m\u001b[38;5;124m\"\u001b[39m\u001b[38;5;124mAllowed formats: \u001b[39m\u001b[38;5;132;01m{\u001b[39;00mALLOWLIST_FORMATS\u001b[38;5;132;01m}\u001b[39;00m\u001b[38;5;124m\"\u001b[39m\n\u001b[1;32m    306\u001b[0m     )\n\u001b[1;32m    308\u001b[0m dataset \u001b[38;5;241m=\u001b[39m paths_and_labels_to_dataset(\n\u001b[1;32m    309\u001b[0m     image_paths\u001b[38;5;241m=\u001b[39mimage_paths,\n\u001b[1;32m    310\u001b[0m     image_size\u001b[38;5;241m=\u001b[39mimage_size,\n\u001b[0;32m   (...)\u001b[0m\n\u001b[1;32m    316\u001b[0m     crop_to_aspect_ratio\u001b[38;5;241m=\u001b[39mcrop_to_aspect_ratio,\n\u001b[1;32m    317\u001b[0m )\n\u001b[1;32m    319\u001b[0m \u001b[38;5;28;01mif\u001b[39;00m batch_size \u001b[38;5;129;01mis\u001b[39;00m \u001b[38;5;129;01mnot\u001b[39;00m \u001b[38;5;28;01mNone\u001b[39;00m:\n",
      "\u001b[0;31mValueError\u001b[0m: No images found in directory datasets/prueba/train. Allowed formats: ('.bmp', '.gif', '.jpeg', '.jpg', '.png')"
     ]
    }
   ],
   "source": [
    "# Define el número de épocas y el tamaño del lote\n",
    "EPOCHS = 200\n",
    "BATCH_SIZE = 1\n",
    "\n",
    "# Carga los datos\n",
    "train_dataset = load_data('datasets/prueba/train', BATCH_SIZE)\n",
    "test_dataset = load_data('datasets/prueba/test', BATCH_SIZE)\n",
    "\n",
    "generator = build_generator()\n",
    "discriminator = build_discriminator()\n",
    "\n",
    "# Bucle de entrenamiento\n",
    "for epoch in range(EPOCHS):\n",
    "    for input_image, target in train_dataset:\n",
    "        train_step(input_image, target)\n",
    "\n",
    "    for input_image, target in test_dataset:\n",
    "        test_step(input_image, target)  # Realiza la prueba después de cada época de entrenamiento\n",
    "\n",
    "    # Guarda el modelo después de cada época\n",
    "    generator.save('generator_model_epoch_{}.h5'.format(epoch + 1))\n",
    "    discriminator.save('discriminator_model_epoch_{}.h5'.format(epoch + 1))\n",
    "\n",
    "# Carga el último modelo guardado para realizar pruebas\n",
    "saved_generator = tf.keras.models.load_model('generator_model_epoch_{}.h5'.format(EPOCHS))\n",
    "saved_discriminator = tf.keras.models.load_model('discriminator_model_epoch_{}.h5'.format(EPOCHS))\n",
    "\n",
    "# Realiza pruebas con el modelo cargado\n",
    "for input_image, target in test_dataset:\n",
    "    # Realiza pruebas con el modelo cargado\n",
    "    test_step(input_image, target)"
   ]
  },
  {
   "cell_type": "code",
   "execution_count": 13,
   "id": "52bd0051-989e-45f3-9cb3-9fdd61b4690a",
   "metadata": {},
   "outputs": [
    {
     "name": "stdout",
     "output_type": "stream",
     "text": [
      "Archivos de imagen en el directorio: ['train_051_021.png', 'train_036_009.png', 'train_022_022.png', 'train_005_007.png', 'train_004_000.png', 'train_051_008.png', 'train_052_015.png', 'train_039_022.png', 'train_013_000.png', 'train_056_017.png', 'train_056_006.png', 'train_031_001.png', 'train_052_018.png', 'train_038_001.png', 'train_005_023.png', 'train_027_000.png', 'train_029_010.png', 'train_028_013.png', 'train_045_017.png', 'train_002_013.png', 'train_014_012.png', 'train_048_011.png', 'train_000_002.png', 'train_001_019.png', 'train_027_023.png', 'train_040_000.png', 'train_012_024.png', 'train_034_000.png', 'train_059_004.png', 'train_047_012.png', 'train_049_006.png', 'train_007_014.png', 'train_027_007.png', 'train_010_022.png', 'train_012_004.png', 'train_059_019.png', 'train_017_003.png', 'train_057_015.png', 'train_045_025.png', 'train_020_019.png', 'train_049_001.png', 'train_051_002.png', 'train_011_015.png', 'train_040_010.png', 'train_048_009.png', 'train_001_001.png', 'train_007_024.png', 'train_043_013.png', 'train_025_022.png', 'train_023_010.png', 'train_058_018.png', 'train_021_011.png', 'train_012_008.png', 'train_009_005.png', 'train_050_024.png', 'train_037_011.png', 'train_014_024.png', 'train_037_020.png', 'train_013_022.png', 'train_033_001.png', 'train_034_014.png', 'train_012_018.png', 'train_039_008.png', 'train_056_000.png', 'train_029_000.png', 'train_053_016.png', 'train_056_008.png', 'train_016_021.png', 'train_009_000.png', 'train_038_012.png', 'train_059_003.png', 'train_044_022.png', 'train_000_016.png', 'train_022_000.png', 'train_016_002.png', 'train_025_013.png', 'train_056_011.png', 'train_036_023.png', 'train_002_002.png', 'train_049_009.png', 'train_014_013.png', 'train_053_004.png', 'train_038_022.png', 'train_037_016.png', 'train_012_020.png', 'train_051_011.png', 'train_004_014.png', 'train_044_021.png', 'train_058_014.png', 'train_025_008.png', 'train_050_020.png', 'train_025_006.png', 'train_015_012.png', 'train_026_001.png', 'train_059_006.png', 'train_006_004.png', 'train_013_016.png', 'train_003_013.png', 'train_013_024.png', 'train_014_002.png', 'train_033_004.png', 'train_020_022.png', 'train_034_003.png', 'train_040_005.png', 'train_023_004.png', 'train_004_018.png', 'train_023_013.png', 'train_048_019.png', 'train_008_012.png', 'train_050_007.png', 'train_007_025.png', 'train_002_015.png', 'train_038_015.png', 'train_020_023.png', 'train_050_025.png', 'train_042_018.png', 'train_038_014.png', 'train_019_012.png', 'train_039_018.png', 'train_050_013.png', 'train_033_006.png', 'train_031_008.png', 'train_044_002.png', 'train_046_007.png', 'train_004_001.png', 'train_044_016.png', 'train_046_014.png', 'train_041_005.png', 'train_051_009.png', 'train_005_008.png', 'train_022_025.png', 'train_029_013.png', 'train_054_016.png', 'train_015_022.png', 'train_021_021.png', 'train_004_013.png', 'train_047_004.png', 'train_044_017.png', 'train_024_004.png', 'train_044_004.png', 'train_036_017.png', 'train_032_010.png', 'train_022_020.png', 'train_003_016.png', 'train_041_007.png', 'train_057_005.png', 'train_049_015.png', 'train_019_001.png', 'train_017_017.png', 'train_022_014.png', 'train_013_015.png', 'train_057_013.png', 'train_039_004.png', 'train_008_006.png', 'train_018_016.png', 'train_009_014.png', 'train_051_012.png', 'train_024_002.png', 'train_005_010.png', 'train_007_023.png', 'train_041_021.png', 'train_057_011.png', 'train_029_001.png', 'train_049_005.png', 'train_024_023.png', 'train_052_000.png', 'train_006_003.png', 'train_025_021.png', 'train_007_007.png', 'train_039_007.png', 'train_037_008.png', 'train_035_011.png', 'train_019_017.png', 'train_056_023.png', 'train_039_009.png', 'train_057_006.png', 'train_011_000.png', 'train_001_010.png', 'train_013_018.png', 'train_040_018.png', 'train_032_022.png', 'train_027_003.png', 'train_052_006.png', 'train_038_020.png', 'train_001_006.png', 'train_040_008.png', 'train_046_006.png', 'train_019_016.png', 'train_021_008.png', 'train_037_014.png', 'train_024_007.png', 'train_045_001.png', 'train_040_004.png', 'train_005_022.png', 'train_013_004.png', 'train_017_006.png', 'train_054_010.png', 'train_056_003.png', 'train_011_008.png', 'train_045_003.png', 'train_038_011.png', 'train_004_003.png', 'train_052_003.png', 'train_042_019.png', 'train_046_005.png', 'train_010_001.png', 'train_014_018.png', 'train_008_011.png', 'train_038_017.png', 'train_005_016.png', 'train_036_007.png', 'train_047_020.png', 'train_013_021.png', 'train_053_002.png', 'train_039_019.png', 'train_020_000.png', 'train_055_024.png', 'train_035_010.png', 'train_023_012.png', 'train_014_020.png', 'train_049_019.png', 'train_046_016.png', 'train_025_010.png', 'train_044_001.png', 'train_038_016.png', 'train_026_015.png', 'train_025_019.png', 'train_014_000.png', 'train_014_025.png', 'train_021_019.png', 'train_016_003.png', 'train_055_022.png', 'train_025_024.png', 'train_001_021.png', 'train_032_000.png', 'train_030_004.png', 'train_054_013.png', 'train_049_008.png', 'train_021_012.png', 'train_050_000.png', 'train_008_018.png', 'train_005_000.png', 'train_040_013.png', 'train_030_021.png', 'train_001_003.png', 'train_050_005.png', 'train_054_007.png', 'train_008_017.png', 'train_056_013.png', 'train_054_021.png', 'train_031_015.png', 'train_005_015.png', 'train_025_025.png', 'train_020_004.png', 'train_022_023.png', 'train_053_011.png', 'train_031_020.png', 'train_036_000.png', 'train_027_009.png', 'train_014_006.png', 'train_032_005.png', 'train_015_006.png', 'train_040_020.png', 'train_045_007.png', 'train_016_007.png', 'train_004_016.png', 'train_014_007.png', 'train_041_013.png', 'train_043_003.png', 'train_033_000.png', 'train_007_008.png', 'train_045_019.png', 'train_034_016.png', 'train_003_003.png', 'train_030_016.png', 'train_049_002.png', 'train_002_018.png', 'train_030_007.png', 'train_029_022.png', 'train_024_009.png', 'train_025_002.png', 'train_001_004.png', 'train_013_019.png', 'train_024_017.png', 'train_035_021.png', 'train_021_020.png', 'train_009_023.png', 'train_020_020.png', 'train_058_019.png', 'train_058_010.png', 'train_023_009.png', 'train_049_013.png', 'train_030_017.png', 'train_040_021.png', 'train_047_006.png', 'train_007_022.png', 'train_059_015.png', 'train_002_007.png', 'train_010_014.png', 'train_047_002.png', 'train_016_022.png', 'train_046_018.png', 'train_048_018.png', 'train_023_022.png', 'train_027_016.png', 'train_041_002.png', 'train_015_000.png', 'train_017_019.png', 'train_042_017.png', 'train_023_018.png', 'train_059_002.png', 'train_037_001.png', 'train_041_001.png', 'train_034_021.png', 'train_031_011.png', 'train_039_005.png', 'train_028_023.png', 'train_011_016.png', 'train_018_008.png', 'train_039_014.png', 'train_030_003.png', 'train_036_011.png', 'train_052_005.png', 'train_039_020.png', 'train_024_005.png', 'train_035_001.png', 'train_012_011.png', 'train_018_015.png', 'train_013_011.png', 'train_058_007.png', 'train_046_024.png', 'train_019_021.png', 'train_051_004.png', 'train_037_023.png', 'train_005_001.png', 'train_036_016.png', 'train_022_018.png', 'train_022_007.png', 'train_000_022.png', 'train_050_018.png', 'train_036_003.png', 'train_031_016.png', 'train_053_022.png', 'train_048_015.png', 'train_020_013.png', 'train_055_006.png', 'train_023_002.png', 'train_024_006.png', 'train_031_012.png', 'train_012_005.png', 'train_012_007.png', 'train_014_005.png', 'train_037_013.png', 'train_039_006.png', 'train_051_023.png', 'train_052_007.png', 'train_021_009.png', 'train_056_022.png', 'train_015_020.png', 'train_046_011.png', 'train_021_001.png', 'train_036_021.png', 'train_026_012.png', 'train_005_014.png', 'train_016_013.png', 'train_000_021.png', 'train_048_000.png', 'train_037_002.png', 'train_006_013.png', 'train_014_004.png', 'train_056_021.png', 'train_047_011.png', 'train_019_022.png', 'train_041_000.png', 'train_012_001.png', 'train_031_003.png', 'train_047_014.png', 'train_036_014.png', 'train_039_012.png', 'train_026_018.png', 'train_048_002.png', 'train_055_021.png', 'train_057_004.png', 'train_012_019.png', 'train_017_000.png', 'train_044_012.png', 'train_042_021.png', 'train_021_000.png', 'train_026_009.png', 'train_009_004.png', 'train_029_002.png', 'train_041_003.png', 'train_059_010.png', 'train_013_013.png', 'train_054_003.png', 'train_027_024.png', 'train_055_014.png', 'train_000_023.png', 'train_052_021.png', 'train_049_012.png', 'train_052_012.png', 'train_016_020.png', 'train_005_003.png', 'train_006_018.png', 'train_049_014.png', 'train_006_001.png', 'train_041_015.png', 'train_027_019.png', 'train_035_006.png', 'train_000_018.png', 'train_017_004.png', 'train_055_011.png', 'train_047_008.png', 'train_030_019.png', 'train_013_002.png', 'train_015_014.png', 'train_020_014.png', 'train_054_005.png', 'train_012_000.png', 'train_009_013.png', 'train_028_015.png', 'train_045_008.png', 'train_001_012.png', 'train_026_003.png', 'train_043_012.png', 'train_055_020.png', 'train_032_008.png', 'train_026_011.png', 'train_029_011.png', 'train_007_012.png', 'train_027_001.png', 'train_037_025.png', 'train_024_018.png', 'train_057_020.png', 'train_049_007.png', 'train_009_010.png', 'train_053_023.png', 'train_000_020.png', 'train_052_014.png', 'train_022_008.png', 'train_000_001.png', 'train_003_007.png', 'train_022_015.png', 'train_023_019.png', 'train_008_008.png', 'train_054_011.png', 'train_028_022.png', 'train_038_023.png', 'train_004_008.png', 'train_008_010.png', 'train_029_015.png', 'train_035_004.png', 'train_000_025.png', 'train_038_000.png', 'train_049_021.png', 'train_003_002.png', 'train_047_016.png', 'train_019_018.png', 'train_041_009.png', 'train_047_024.png', 'train_045_009.png', 'train_017_013.png', 'train_018_004.png', 'train_011_011.png', 'train_036_022.png', 'train_042_011.png', 'train_012_009.png', 'train_029_014.png', 'train_010_019.png', 'train_020_005.png', 'train_020_008.png', 'train_017_022.png', 'train_057_016.png', 'train_056_019.png', 'train_034_022.png', 'train_041_022.png', 'train_041_006.png', 'train_029_007.png', 'train_002_006.png', 'train_008_019.png', 'train_013_023.png', 'train_046_019.png', 'train_040_003.png', 'train_001_015.png', 'train_047_023.png', 'train_009_024.png', 'train_000_003.png', 'train_000_008.png', 'train_021_022.png', 'train_022_021.png', 'train_016_019.png', 'train_038_018.png', 'train_046_021.png', 'train_048_005.png', 'train_017_007.png', 'train_039_001.png', 'train_016_015.png', 'train_031_013.png', 'train_057_003.png', 'train_056_020.png', 'train_027_018.png', 'train_053_020.png', 'train_058_004.png', 'train_010_000.png', 'train_048_022.png', 'train_047_005.png', 'train_040_017.png', 'train_028_010.png', 'train_023_025.png', 'train_050_022.png', 'train_016_014.png', 'train_045_023.png', 'train_050_010.png', 'train_050_003.png', 'train_034_011.png', 'train_040_015.png', 'train_011_005.png', 'train_018_018.png', 'train_046_015.png', 'train_014_009.png', 'train_028_002.png', 'train_013_007.png', 'train_052_017.png', 'train_038_007.png', 'train_049_016.png', 'train_017_009.png', 'train_009_003.png', 'train_034_010.png', 'train_018_007.png', 'train_010_013.png', 'train_007_011.png', 'train_027_021.png', 'train_056_015.png', 'train_041_018.png', 'train_016_008.png', 'train_048_020.png', 'train_058_016.png', 'train_052_016.png', 'train_059_007.png', 'train_024_020.png', 'train_029_018.png', 'train_030_022.png', 'train_019_011.png', 'train_006_005.png', 'train_000_019.png', 'train_032_007.png', 'train_023_021.png', 'train_020_002.png', 'train_059_013.png', 'train_034_001.png', 'train_012_014.png', 'train_024_012.png', 'train_043_017.png', 'train_057_022.png', 'train_027_015.png', 'train_023_003.png', 'train_024_014.png', 'train_051_020.png', 'train_038_010.png', 'train_059_001.png', 'train_010_008.png', 'train_045_021.png', 'train_048_013.png', 'train_014_022.png', 'train_012_012.png', 'train_028_018.png', 'train_029_021.png', 'train_053_001.png', 'train_027_017.png', 'train_052_023.png', 'train_010_018.png', 'train_055_019.png', 'train_028_009.png', 'train_006_020.png', 'train_051_010.png', 'train_042_010.png', 'train_059_022.png', 'train_031_021.png', 'train_051_000.png', 'train_053_008.png', 'train_005_018.png', 'train_045_024.png', 'train_006_016.png', 'train_032_009.png', 'train_025_016.png', 'train_043_005.png', 'train_014_014.png', 'train_004_012.png', 'train_023_006.png', 'train_004_023.png', 'train_032_024.png', 'train_005_006.png', 'train_028_003.png', 'train_028_021.png', 'train_043_018.png', 'train_009_011.png', 'train_036_002.png', 'train_031_022.png', 'train_035_012.png', 'train_013_009.png', 'train_023_001.png', 'train_033_023.png', 'train_043_011.png', 'train_003_006.png', 'train_004_017.png', 'train_032_016.png', 'train_027_012.png', 'train_039_002.png', 'train_043_002.png', 'train_003_014.png', 'train_033_014.png', 'train_021_017.png', 'train_053_009.png', 'train_048_006.png', 'train_049_022.png', 'train_058_013.png', 'train_046_004.png', 'train_049_010.png', 'train_026_023.png', 'train_008_016.png', 'train_018_006.png', 'train_045_013.png', 'train_011_013.png', 'train_009_022.png', 'train_007_010.png', 'train_054_019.png', 'train_023_000.png', 'train_057_009.png', 'train_017_023.png', 'train_030_002.png', 'train_050_009.png', 'train_001_020.png', 'train_005_013.png', 'train_056_010.png', 'train_020_011.png', 'train_030_005.png', 'train_019_005.png', 'train_010_015.png', 'train_027_013.png', 'train_017_020.png', 'train_057_025.png', 'train_039_011.png', 'train_020_001.png', 'train_006_021.png', 'train_009_015.png', 'train_042_006.png', 'train_047_021.png', 'train_050_021.png', 'train_009_018.png', 'train_022_006.png', 'train_018_021.png', 'train_055_007.png', 'train_022_010.png', 'train_043_016.png', 'train_043_009.png', 'train_040_023.png', 'train_035_020.png', 'train_054_008.png', 'train_016_011.png', 'train_042_013.png', 'train_006_014.png', 'train_054_018.png', 'train_055_025.png', 'train_026_022.png', 'train_057_000.png', 'train_007_002.png', 'train_006_022.png', 'train_049_011.png', 'train_001_000.png', 'train_051_003.png', 'train_011_006.png', 'train_045_018.png', 'train_058_001.png', 'train_018_020.png', 'train_059_014.png', 'train_031_004.png', 'train_057_019.png', 'train_048_021.png', 'train_044_008.png', 'train_056_007.png', 'train_016_023.png', '.ipynb_checkpoints', 'train_036_020.png', 'train_043_004.png', 'train_019_015.png', 'train_044_010.png', 'train_001_007.png', 'train_006_017.png', 'train_058_006.png', 'train_038_008.png', 'train_002_004.png', 'train_024_021.png', 'train_055_013.png', 'train_037_019.png', 'train_028_019.png', 'train_012_017.png', 'train_035_022.png', 'train_015_002.png', 'train_058_000.png', 'train_002_014.png', 'train_003_022.png', 'train_024_001.png', 'train_049_000.png', 'train_033_002.png', 'train_030_006.png', 'train_011_007.png', 'train_015_005.png', 'train_021_018.png', 'train_045_010.png', 'train_047_017.png', 'train_015_008.png', 'train_006_008.png', 'train_027_022.png', 'train_035_002.png', 'train_007_003.png', 'train_015_023.png', 'train_040_016.png', 'train_007_001.png', 'train_031_017.png', 'train_048_001.png', 'train_044_023.png', 'train_022_004.png', 'train_037_003.png', 'train_029_006.png', 'train_028_001.png', 'train_031_014.png', 'train_003_005.png', 'train_054_020.png', 'train_040_019.png', 'train_017_002.png', 'train_059_000.png', 'train_018_013.png', 'train_037_018.png', 'train_019_020.png', 'train_023_014.png', 'train_019_013.png', 'train_002_008.png', 'train_022_012.png', 'train_031_006.png', 'train_000_024.png', 'train_052_022.png', 'train_033_012.png', 'train_021_010.png', 'train_017_012.png', 'train_021_015.png', 'train_008_009.png', 'train_009_009.png', 'train_026_014.png', 'train_025_012.png', 'train_022_017.png', 'train_000_015.png', 'train_005_017.png', 'train_044_014.png', 'train_051_016.png', 'train_005_011.png', 'train_047_022.png', 'train_032_013.png', 'train_021_004.png', 'train_025_004.png', 'train_009_006.png', 'train_014_023.png', 'train_035_019.png', 'train_033_016.png', 'train_028_000.png', 'train_014_010.png', 'train_055_005.png', 'train_046_013.png', 'train_009_002.png', 'train_014_011.png', 'train_058_015.png', 'train_002_024.png', 'train_016_004.png', 'train_034_015.png', 'train_032_014.png', 'train_005_020.png', 'train_036_012.png', 'train_003_021.png', 'train_047_003.png', 'train_002_010.png', 'train_003_004.png', 'train_015_021.png', 'train_059_017.png', 'train_033_011.png', 'train_036_013.png', 'train_031_007.png', 'train_039_023.png', 'train_001_008.png', 'train_018_005.png', 'train_053_003.png', 'train_004_021.png', 'train_034_006.png', 'train_033_019.png', 'train_051_017.png', 'train_050_014.png', 'train_047_018.png', 'train_056_018.png', 'train_022_002.png', 'train_005_004.png', 'train_044_006.png', 'train_004_007.png', 'train_007_000.png', 'train_043_001.png', 'train_006_002.png', 'train_009_025.png', 'train_042_020.png', 'train_030_009.png', 'train_002_016.png', 'train_031_009.png', 'train_035_024.png', 'train_045_016.png', 'train_018_000.png', 'train_033_015.png', 'train_009_012.png', 'train_018_009.png', 'train_056_009.png', 'train_027_006.png', 'train_005_019.png', 'train_053_018.png', 'train_027_008.png', 'train_047_001.png', 'train_011_017.png', 'train_018_002.png', 'train_041_012.png', 'train_052_010.png', 'train_008_015.png', 'train_037_004.png', 'train_048_017.png', 'train_044_019.png', 'train_001_011.png', 'train_046_017.png', 'train_033_007.png', 'train_010_020.png', 'train_007_006.png', 'train_011_018.png', 'train_050_002.png', 'train_052_013.png', 'train_019_014.png', 'train_000_011.png', 'train_057_012.png', 'train_002_017.png', 'train_023_011.png', 'train_022_011.png', 'train_030_010.png', 'train_000_005.png', 'train_028_008.png', 'train_040_002.png', 'train_010_012.png', 'train_004_010.png', 'train_012_021.png', 'train_006_000.png', 'train_025_003.png', 'train_002_001.png', 'train_010_003.png', 'train_019_008.png', 'train_031_010.png', 'train_056_016.png', 'train_034_019.png', 'train_048_007.png', 'train_044_011.png', 'train_023_007.png', 'train_003_001.png', 'train_055_018.png', 'train_010_010.png', 'train_031_002.png', 'train_026_007.png', 'train_048_008.png', 'train_010_007.png', 'train_058_023.png', 'train_006_009.png', 'train_009_001.png', 'train_044_013.png', 'train_038_025.png', 'train_028_024.png', 'train_018_003.png', 'train_042_004.png', 'train_031_025.png', 'train_059_018.png', 'train_026_021.png', 'train_047_010.png', 'train_024_011.png', 'train_028_012.png', 'train_030_015.png', 'train_012_003.png', 'train_009_020.png', 'train_038_024.png', 'train_030_014.png', 'train_057_010.png', 'train_042_009.png', 'train_047_013.png', 'train_037_010.png', 'train_031_005.png', 'train_008_013.png', 'train_034_007.png', 'train_053_006.png', 'train_000_004.png', 'train_024_000.png', 'train_004_005.png', 'train_020_010.png', 'train_003_008.png', 'train_009_007.png', 'train_006_024.png', 'train_002_012.png', 'train_046_020.png', 'train_045_014.png', 'train_011_003.png', 'train_017_015.png', 'train_002_020.png', 'train_015_007.png', 'train_056_025.png', 'train_041_019.png', 'train_032_002.png', 'train_044_020.png', 'train_036_015.png', 'train_019_007.png', 'train_055_012.png', 'train_044_007.png', 'train_013_017.png', 'train_050_019.png', 'train_024_008.png', 'train_007_021.png', 'train_012_022.png', 'train_051_019.png', 'train_034_004.png', 'train_024_015.png', 'train_047_019.png', 'train_020_006.png', 'train_037_005.png', 'train_019_003.png', 'train_053_000.png', 'train_034_018.png', 'train_043_006.png', 'train_053_015.png', 'train_058_002.png', 'train_038_003.png', 'train_056_014.png', 'train_007_004.png', 'train_052_024.png', 'train_033_013.png', 'train_032_025.png', 'train_011_002.png', 'train_045_005.png', 'train_017_001.png', 'train_002_023.png', 'train_054_014.png', 'train_034_013.png', 'train_042_015.png', 'train_009_021.png', 'train_038_019.png', 'train_028_017.png', 'train_059_020.png', 'train_032_006.png', 'train_007_016.png', 'train_059_023.png', 'train_055_010.png', 'train_034_002.png', 'train_030_001.png', 'train_005_009.png', 'train_035_018.png', 'train_038_009.png', 'train_029_019.png', 'train_017_014.png', 'train_042_000.png', 'train_014_017.png', 'train_042_008.png', 'train_029_009.png', 'train_052_025.png', 'train_003_010.png', 'train_052_019.png', 'train_022_001.png', 'train_022_005.png', 'train_015_010.png', 'train_045_012.png', 'train_016_000.png', 'train_029_023.png', 'train_054_009.png', 'train_035_016.png', 'train_026_010.png', 'train_003_019.png', 'train_032_017.png', 'train_043_010.png', 'train_035_013.png', 'train_019_019.png', 'train_025_014.png', 'train_007_009.png', 'train_051_005.png', 'train_055_000.png', 'train_054_017.png', 'train_008_001.png', 'train_015_003.png', 'train_040_014.png', 'train_042_007.png', 'train_023_005.png', 'train_023_008.png', 'train_010_006.png', 'train_003_009.png', 'train_050_006.png', 'train_009_008.png', 'train_057_007.png', 'train_016_005.png', 'train_058_017.png', 'train_027_020.png', 'train_042_003.png', 'train_041_011.png', 'train_042_005.png', 'train_033_003.png', 'train_017_005.png', 'train_038_002.png', 'train_034_023.png', 'train_032_019.png', 'train_026_008.png', 'train_025_020.png', 'train_027_002.png', 'train_036_001.png', 'train_036_019.png', 'train_056_024.png', 'train_003_017.png', 'train_052_008.png', 'train_015_011.png', 'train_044_009.png', 'train_040_012.png', 'train_001_017.png', 'train_025_007.png', 'train_023_015.png', 'train_000_000.png', 'train_002_003.png', 'train_059_011.png', 'train_045_006.png', 'train_000_007.png', 'train_059_021.png', 'train_046_025.png', 'train_018_022.png', 'train_003_011.png', 'train_006_015.png', 'train_000_017.png', 'train_037_009.png', 'train_033_017.png', 'train_002_025.png', 'train_015_018.png', 'train_022_024.png', 'train_000_014.png', 'train_012_010.png', 'train_055_016.png', 'train_054_015.png', 'train_011_014.png', 'train_032_001.png', 'train_048_010.png', 'train_058_022.png', 'train_005_021.png', 'train_028_020.png', 'train_047_015.png', 'train_014_003.png', 'train_030_023.png', 'train_015_017.png', 'train_046_023.png', 'train_001_002.png', 'train_016_018.png', 'train_021_005.png', 'train_019_009.png', 'train_002_005.png', 'train_036_006.png', 'train_057_024.png', 'train_018_012.png', 'train_013_005.png', 'train_011_012.png', 'train_006_012.png', 'train_050_017.png', 'train_055_009.png', 'train_049_020.png', 'train_058_003.png', 'train_040_009.png', 'train_001_016.png', 'train_010_009.png', 'train_015_015.png', 'train_058_012.png', 'train_032_021.png', 'train_037_015.png', 'train_009_017.png', 'train_031_000.png', 'train_015_009.png', 'train_052_009.png', 'train_028_004.png', 'train_026_013.png', 'train_020_021.png', 'train_041_017.png', 'train_037_006.png', 'train_035_023.png', 'train_029_005.png', 'train_027_004.png', 'train_025_015.png', 'train_014_001.png', 'train_050_015.png', 'train_022_019.png', 'train_020_018.png', 'train_042_016.png', 'train_015_001.png', 'train_035_000.png', 'train_023_017.png', 'train_046_002.png', 'train_026_017.png', 'train_051_015.png', 'train_052_001.png', 'train_049_017.png', 'train_026_005.png', 'train_033_018.png', 'train_004_020.png', 'train_004_015.png', 'train_033_009.png', 'train_058_020.png', 'train_056_005.png', 'train_041_008.png', 'train_015_013.png', 'train_053_007.png', 'train_029_003.png', 'train_034_009.png', 'train_028_006.png', 'train_037_017.png', 'train_022_009.png', 'train_000_013.png', 'train_021_007.png', 'train_029_017.png', 'train_011_010.png', 'train_041_010.png', 'train_052_011.png', 'train_006_007.png', 'train_021_003.png', 'train_023_020.png', 'train_045_000.png', 'train_041_014.png', 'train_013_008.png', 'train_039_015.png', 'train_000_010.png', 'train_026_020.png', 'train_054_022.png', 'train_029_016.png', 'train_055_023.png', 'train_026_006.png', 'train_035_014.png', 'train_051_007.png', 'train_044_018.png', 'train_037_022.png', 'train_008_004.png', 'train_053_019.png', 'train_049_004.png', 'train_057_001.png', 'train_024_024.png', 'train_014_021.png', 'train_039_013.png', 'train_004_006.png', 'train_050_004.png', 'train_025_009.png', 'train_013_020.png', 'train_052_020.png', 'train_033_022.png', 'train_039_003.png', 'train_010_017.png', 'train_031_018.png', 'train_024_003.png', 'train_053_014.png', 'train_012_002.png', 'train_047_025.png', 'train_045_022.png', 'train_045_020.png', 'train_001_022.png', 'train_044_005.png', 'train_002_022.png', 'train_051_006.png', 'train_055_015.png', 'train_025_001.png', 'train_011_009.png', 'train_057_018.png', 'train_043_007.png', 'train_041_016.png', 'train_043_019.png', 'train_003_024.png', 'train_055_003.png', 'train_036_018.png', 'train_009_019.png', 'train_042_002.png', 'train_032_012.png', 'train_007_020.png', 'train_029_020.png', 'train_035_003.png', 'train_054_006.png', 'train_028_005.png', 'train_059_005.png', 'train_043_014.png', 'train_028_007.png', 'train_046_008.png', 'train_024_019.png', 'train_042_012.png', 'train_058_005.png', 'train_019_004.png', 'train_043_000.png', 'train_058_009.png', 'train_000_006.png', 'train_054_001.png', 'train_049_018.png', 'train_012_013.png', 'train_048_014.png', 'train_030_012.png', 'train_008_000.png', 'train_045_011.png', 'train_008_002.png', 'train_016_009.png', 'train_014_016.png', 'train_027_011.png', 'train_056_002.png', 'train_057_002.png', 'train_045_004.png', 'train_024_022.png', 'train_010_021.png', 'train_003_012.png', 'train_022_013.png', 'train_034_020.png', 'train_012_006.png', 'train_036_004.png', 'train_010_004.png', 'train_033_008.png', 'train_025_023.png', 'train_038_004.png', 'train_032_015.png', 'train_035_015.png', 'train_013_014.png', 'train_031_024.png', 'train_059_008.png', 'train_004_022.png', 'train_029_004.png', 'train_046_000.png', 'train_054_012.png', 'train_004_004.png', 'train_046_003.png', 'train_048_023.png', 'train_054_000.png', 'train_026_000.png', 'train_017_008.png', 'train_046_010.png', 'train_018_011.png', 'train_047_000.png', 'train_005_012.png', 'train_041_020.png', 'train_008_005.png', 'train_053_021.png', 'train_050_008.png', 'train_056_004.png', 'train_052_002.png', 'train_015_004.png', 'train_020_015.png', 'train_033_021.png', 'train_006_025.png', 'train_013_012.png', 'train_028_014.png', 'train_054_023.png', 'train_013_025.png', 'train_002_019.png', 'train_006_023.png', 'train_031_023.png', 'train_040_006.png', 'train_053_005.png', 'train_010_023.png', 'train_018_001.png', 'train_003_025.png', 'train_053_010.png', 'train_025_018.png', 'train_039_000.png', 'train_057_008.png', 'train_017_018.png', 'train_040_007.png', 'train_030_008.png', 'train_028_011.png', 'train_003_020.png', 'train_053_013.png', 'train_014_008.png', 'train_047_009.png', 'train_022_016.png', 'train_037_012.png', 'train_025_000.png', 'train_030_018.png', 'train_002_011.png', 'train_054_002.png', 'train_010_011.png', 'train_021_014.png', 'train_031_019.png', 'train_026_019.png', 'train_007_015.png', 'train_029_008.png', 'train_032_003.png', 'train_012_023.png', 'train_059_012.png', 'train_045_002.png', 'train_024_013.png', 'train_011_001.png', 'train_030_000.png', 'train_003_000.png', 'train_003_018.png', 'train_030_020.png', 'train_016_016.png', 'train_034_005.png', 'train_006_019.png', 'train_004_019.png', 'train_055_001.png', 'train_050_023.png', 'train_010_016.png', 'train_007_018.png', 'train_058_021.png', 'train_055_017.png', 'train_038_005.png', 'train_057_014.png', 'train_040_001.png', 'train_048_012.png', 'train_008_014.png', 'train_025_005.png', 'train_021_023.png', 'train_051_018.png', 'train_039_021.png', 'train_030_013.png', 'train_035_007.png', 'train_000_009.png', 'train_051_001.png', 'train_019_010.png', 'train_037_007.png', 'train_012_015.png', 'train_003_023.png', 'train_019_006.png', 'train_002_009.png', 'train_051_025.png', 'train_001_014.png', 'train_042_014.png', 'train_001_005.png', 'train_021_006.png', 'train_056_012.png', 'train_005_002.png', 'train_024_025.png', 'train_043_015.png', 'train_058_008.png', 'train_016_010.png', 'train_040_011.png', 'train_032_023.png', 'train_020_016.png', 'train_047_007.png', 'train_001_013.png', 'train_033_010.png', 'train_039_010.png', 'train_000_012.png', 'train_048_004.png', 'train_048_003.png', 'train_043_008.png', 'train_018_019.png', 'train_053_017.png', 'train_050_011.png', 'train_028_016.png', 'train_046_012.png', 'train_038_021.png', 'train_013_001.png', 'train_017_011.png', 'train_039_016.png', 'train_027_005.png', 'train_025_017.png', 'train_044_015.png', 'train_027_010.png', 'train_014_015.png', 'train_046_022.png', 'train_007_013.png', 'train_021_016.png', 'train_020_012.png', 'train_018_023.png', 'train_042_001.png', 'train_002_021.png', 'train_056_001.png', 'train_004_011.png', 'train_051_013.png', 'train_019_023.png', 'train_023_024.png', 'train_007_005.png', 'train_010_005.png', 'train_041_023.png', 'train_038_013.png', 'train_013_006.png', 'train_037_000.png', 'train_007_017.png', 'train_048_016.png', 'train_035_008.png', 'train_053_012.png', 'train_017_016.png', 'train_039_017.png', 'train_016_017.png', 'train_050_016.png', 'train_010_002.png', 'train_050_001.png', 'train_022_003.png', 'train_027_014.png', 'train_006_010.png', 'train_013_010.png', 'train_025_011.png', 'train_051_022.png', 'train_037_024.png', 'train_001_009.png', 'train_035_005.png', 'train_020_017.png', 'train_050_012.png', 'train_055_008.png', 'train_018_014.png', 'train_026_002.png', 'train_004_002.png', 'train_051_024.png', 'train_032_020.png', 'train_016_006.png', 'train_029_012.png', 'train_015_019.png', 'train_046_001.png', 'train_027_025.png', 'train_032_011.png', 'train_005_005.png', 'train_004_009.png', 'train_058_011.png', 'train_011_004.png', 'train_036_010.png', 'train_032_004.png', 'train_057_023.png', 'train_014_019.png', 'train_059_009.png', 'train_020_007.png', 'train_046_009.png', 'train_017_010.png', 'train_052_004.png', 'train_036_008.png', 'train_016_012.png', 'train_051_014.png', 'train_013_003.png', 'train_026_016.png', 'train_001_018.png', 'train_035_009.png', 'train_034_017.png', 'train_023_016.png', 'train_021_013.png', 'train_044_003.png', 'train_007_019.png', 'train_021_002.png', 'train_049_003.png', 'train_018_010.png', 'train_059_016.png', 'train_032_018.png', 'train_028_025.png', 'train_011_019.png', 'train_020_003.png', 'train_023_023.png', 'train_035_025.png', 'train_020_009.png', 'train_038_006.png', 'train_041_004.png', 'train_024_010.png', 'train_016_001.png', 'train_015_016.png', 'train_045_015.png', 'train_030_011.png', 'train_018_017.png', 'train_055_002.png', 'train_055_004.png', 'train_034_012.png', 'train_033_020.png', 'train_008_007.png', 'train_019_002.png', 'train_054_004.png', 'train_008_003.png', 'train_035_017.png', 'train_012_016.png', 'train_040_022.png', 'train_034_008.png', 'train_009_016.png', 'train_006_011.png', 'train_036_005.png', 'train_019_000.png', 'train_017_021.png', 'train_002_000.png', 'train_003_015.png', 'train_037_021.png', 'train_044_000.png', 'train_024_016.png', 'train_057_017.png', 'train_057_021.png', 'train_033_005.png', 'train_006_006.png', 'train_026_004.png']\n"
     ]
    }
   ],
   "source": [
    "import os\n",
    "\n",
    "data_dir = 'datasets/prueba/train'\n",
    "image_files = os.listdir(data_dir)\n",
    "print(\"Archivos de imagen en el directorio:\", image_files)\n"
   ]
  }
 ],
 "metadata": {
  "kernelspec": {
   "display_name": "Python 3 (ipykernel)",
   "language": "python",
   "name": "python3"
  },
  "language_info": {
   "codemirror_mode": {
    "name": "ipython",
    "version": 3
   },
   "file_extension": ".py",
   "mimetype": "text/x-python",
   "name": "python",
   "nbconvert_exporter": "python",
   "pygments_lexer": "ipython3",
   "version": "3.10.13"
  }
 },
 "nbformat": 4,
 "nbformat_minor": 5
}
