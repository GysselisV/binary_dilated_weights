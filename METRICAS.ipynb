{
 "cells": [
  {
   "cell_type": "code",
   "execution_count": 1,
   "id": "846bcf30-9843-4cd6-ab84-3fddb8dc5ba3",
   "metadata": {},
   "outputs": [],
   "source": [
    "import numpy as np\n",
    "import matplotlib.pyplot as plt\n",
    "from skimage.metrics import structural_similarity as ssim, peak_signal_noise_ratio as psnr\n",
    "\n",
    "from pathlib import Path\n",
    "from ipywidgets import interact\n",
    "import os"
   ]
  },
  {
   "cell_type": "code",
   "execution_count": 2,
   "id": "01656488-96b0-4acc-9c59-c3f42990abcc",
   "metadata": {},
   "outputs": [],
   "source": [
    "from torchmetrics.image import MultiScaleStructuralSimilarityIndexMeasure\n",
    "import torch\n",
    "from torchvision.transforms.functional import to_tensor\n",
    "from PIL import Image"
   ]
  },
  {
   "cell_type": "code",
   "execution_count": 3,
   "id": "81361f95-79f7-4f84-8022-4aaa7faf1613",
   "metadata": {},
   "outputs": [],
   "source": [
    "ms_ssim = MultiScaleStructuralSimilarityIndexMeasure()"
   ]
  },
  {
   "cell_type": "markdown",
   "id": "0157aecb-c93a-4f3f-93e5-9cc7128f15a9",
   "metadata": {},
   "source": [
    "# **Shapes**"
   ]
  },
  {
   "cell_type": "code",
   "execution_count": 4,
   "id": "52cf8819-6d52-4b3b-a8a4-12843d145221",
   "metadata": {},
   "outputs": [
    {
     "name": "stdout",
     "output_type": "stream",
     "text": [
      "El shape de la imagen test original es: (256, 256, 3)\n",
      "El shape de la imagen en escala de grises es: (256, 256)\n"
     ]
    }
   ],
   "source": [
    "imagen = plt.imread('results/p2p_esp_NCCT2DWI/test_latest/images/fake_B/000/test_000_000_fake_B.png')\n",
    "shape = imagen.shape\n",
    "\n",
    "print(\"El shape de la imagen test original es:\", shape)\n",
    "\n",
    "imagen = plt.imread('results/p2p_esp_NCCT2DWI/test_latest/images_grayscale/real_B/000/test_000_000_real_B.png')\n",
    "shape = imagen.shape\n",
    "\n",
    "print(\"El shape de la imagen en escala de grises es:\", shape)"
   ]
  },
  {
   "cell_type": "code",
   "execution_count": 5,
   "id": "c7861e2e-f9fb-466e-9744-51eb092074c5",
   "metadata": {},
   "outputs": [],
   "source": [
    "# Ruta de paciente en especifico\n",
    "ruta_real_B_per_paciente = \"results/p2p_esp_NCCT2DWI/test_latest/images_grayscale/real_B/022\" \n",
    "ruta_fake_B_per_paciente = \"results/p2p_esp_NCCT2DWI/test_latest/images_grayscale/fake_B/022\""
   ]
  },
  {
   "cell_type": "markdown",
   "id": "3234b16e-cbaa-4bec-9bf1-e3b99605c306",
   "metadata": {},
   "source": [
    "## **Rutas de las imágenes de pacientes en las categorías \"real_B\" y \"fake_B\"**"
   ]
  },
  {
   "cell_type": "code",
   "execution_count": 6,
   "id": "d5fd3b53-cb1e-4ef7-bb11-4f93c00da197",
   "metadata": {},
   "outputs": [],
   "source": [
    "ruta_real_B = \"results/p2p_esp_NCCT2DWI/test_latest/images_grayscale/real_B\" \n",
    "ruta_fake_B = \"results/p2p_esp_NCCT2DWI/test_latest/images_grayscale/fake_B\""
   ]
  },
  {
   "cell_type": "markdown",
   "id": "b17ea74a-a276-431a-b2c3-718c41f7cc2b",
   "metadata": {},
   "source": [
    "# **Agrupar Slices de un paciente**"
   ]
  },
  {
   "cell_type": "code",
   "execution_count": 7,
   "id": "edda1193-845b-4361-aef6-07dd3aa2feb7",
   "metadata": {},
   "outputs": [],
   "source": [
    "# Obtener la lista de archivos en las rutas\n",
    "archivos_real_B = sorted(Path(ruta_real_B_per_paciente).glob(\"*.png\"))\n",
    "archivos_fake_B = sorted(Path(ruta_fake_B_per_paciente).glob(\"*.png\"))\n",
    "\n",
    "# Cargar las imágenes en listas\n",
    "imagenes_real_B = [plt.imread(str(f)) for f in archivos_real_B]\n",
    "imagenes_fake_B = [plt.imread(str(f)) for f in archivos_fake_B]\n",
    "\n",
    "#verificar dimensiones\n",
    "for i, img in enumerate(imagenes_real_B):\n",
    "    assert img.shape == (256, 256), f\"Image {i} in real_B has shape {img.shape}\"\n",
    "for i, img in enumerate(imagenes_fake_B):\n",
    "    assert img.shape == (256, 256), f\"Image {i} in fake_B has shape {img.shape}\"\n",
    "    \n",
    "#Agrupar volumen\n",
    "volume_real_B = np.stack(imagenes_real_B, axis=-1)\n",
    "volume_fake_B = np.stack(imagenes_fake_B, axis=-1)"
   ]
  },
  {
   "cell_type": "markdown",
   "id": "93894e44-6f0b-4e14-968f-6a18765cc69b",
   "metadata": {},
   "source": [
    "# **CÁLCULO DEL SSIM**"
   ]
  },
  {
   "cell_type": "code",
   "execution_count": 8,
   "id": "07683a83-e2c5-402e-a627-82385083c79e",
   "metadata": {},
   "outputs": [],
   "source": [
    "def browse_volume(volume, ssim_value=\"\"):\n",
    "    def view_image(i):\n",
    "        plt.imshow(volume[:, :, i], cmap=\"gray\")\n",
    "        plt.title(ssim_value)\n",
    "        plt.show()\n",
    "\n",
    "    interact(view_image, i=(0, volume.shape[2] - 1))"
   ]
  },
  {
   "cell_type": "markdown",
   "id": "c1ef6744-4fcb-48aa-8095-598ba25f6079",
   "metadata": {},
   "source": [
    "## **SSIM por paciente**"
   ]
  },
  {
   "cell_type": "code",
   "execution_count": 9,
   "id": "870379e4-c682-4736-9acf-8a9c04a18f14",
   "metadata": {},
   "outputs": [
    {
     "name": "stdout",
     "output_type": "stream",
     "text": [
      "Índice de similitud estructural (SSIM) entre real_B y fake_B: 0.887\n"
     ]
    },
    {
     "data": {
      "application/vnd.jupyter.widget-view+json": {
       "model_id": "d7484c9c070a4038b3abf496e1a140c0",
       "version_major": 2,
       "version_minor": 0
      },
      "text/plain": [
       "interactive(children=(IntSlider(value=12, description='i', max=24), Output()), _dom_classes=('widget-interact'…"
      ]
     },
     "metadata": {},
     "output_type": "display_data"
    }
   ],
   "source": [
    "ssim_value = ssim(volume_real_B, volume_fake_B, data_range=volume_real_B.max() - volume_real_B.min())\n",
    "print(f\"Índice de similitud estructural (SSIM) entre real_B y fake_B: {ssim_value:.3f}\")\n",
    "\n",
    "browse_volume(volume_fake_B, ssim_value=f\"SSIM: {ssim_value:.3f}\")"
   ]
  },
  {
   "cell_type": "markdown",
   "id": "86d119f9-d65a-4e2b-9ee7-afa70c4d2507",
   "metadata": {},
   "source": [
    "## **Agrupar Slices de todos los pacientes**"
   ]
  },
  {
   "cell_type": "code",
   "execution_count": 10,
   "id": "12fb785d-121b-4aa6-a2e3-2343576e33b5",
   "metadata": {},
   "outputs": [
    {
     "name": "stdout",
     "output_type": "stream",
     "text": [
      "paciente: 000, SSIM: 0.896\n",
      "paciente: 001, SSIM: 0.895\n",
      "paciente: 002, SSIM: 0.874\n",
      "paciente: 003, SSIM: 0.853\n",
      "paciente: 004, SSIM: 0.889\n",
      "paciente: 005, SSIM: 0.843\n",
      "paciente: 006, SSIM: 0.870\n",
      "paciente: 007, SSIM: 0.903\n",
      "paciente: 008, SSIM: 0.863\n",
      "paciente: 009, SSIM: 0.853\n",
      "paciente: 010, SSIM: 0.889\n",
      "paciente: 011, SSIM: 0.891\n",
      "paciente: 012, SSIM: 0.910\n",
      "paciente: 013, SSIM: 0.894\n",
      "paciente: 014, SSIM: 0.897\n",
      "paciente: 015, SSIM: 0.915\n",
      "paciente: 016, SSIM: 0.889\n",
      "paciente: 017, SSIM: 0.870\n",
      "paciente: 018, SSIM: 0.891\n",
      "paciente: 019, SSIM: 0.875\n",
      "paciente: 020, SSIM: 0.871\n",
      "paciente: 021, SSIM: 0.872\n",
      "paciente: 022, SSIM: 0.887\n",
      "paciente: 023, SSIM: 0.721\n",
      "paciente: 024, SSIM: 0.909\n",
      "paciente: 025, SSIM: 0.869\n",
      "paciente: 026, SSIM: 0.877\n",
      "paciente: 027, SSIM: 0.711\n",
      "paciente: 028, SSIM: 0.904\n",
      "paciente: 029, SSIM: 0.891\n",
      "paciente: 030, SSIM: 0.868\n",
      "paciente: 031, SSIM: 0.859\n",
      "paciente: 032, SSIM: 0.864\n",
      "paciente: 033, SSIM: 0.885\n",
      "paciente: 034, SSIM: 0.891\n",
      "paciente: 035, SSIM: 0.775\n",
      "paciente: 036, SSIM: 0.893\n",
      "paciente: 037, SSIM: 0.852\n"
     ]
    }
   ],
   "source": [
    "# Obtener la lista de carpetas de pacientes\n",
    "carpetas_pacientes_real_B = sorted(Path(ruta_real_B).glob(\"*\"))\n",
    "carpetas_pacientes_fake_B = sorted(Path(ruta_fake_B).glob(\"*\"))\n",
    "\n",
    "ssim_values = []\n",
    "\n",
    "for carpeta_paciente_real_B, carpeta_paciente_fake_B in zip(carpetas_pacientes_real_B, carpetas_pacientes_fake_B):\n",
    "    id_paciente = carpeta_paciente_real_B.stem\n",
    "    archivos_real_B = sorted(carpeta_paciente_real_B.glob(\"*.png\"))\n",
    "    archivos_fake_B = sorted(carpeta_paciente_fake_B.glob(\"*.png\"))\n",
    "\n",
    "    imagenes_real_B = [plt.imread(str(f)) for f in archivos_real_B]\n",
    "    imagenes_fake_B = [plt.imread(str(f)) for f in archivos_fake_B]\n",
    "\n",
    "    for i, img in enumerate(imagenes_real_B):\n",
    "        assert img.shape == (256, 256), f\"Image {i} in real_B has shape {img.shape}\"\n",
    "    for i, img in enumerate(imagenes_fake_B):\n",
    "        assert img.shape == (256, 256), f\"Image {i} in fake_B has shape {img.shape}\"\n",
    "\n",
    "    volume_real_B = np.stack(imagenes_real_B, axis=-1)\n",
    "    volume_fake_B = np.stack(imagenes_fake_B, axis=-1)\n",
    "\n",
    "    ssim_value = ssim(volume_real_B, volume_fake_B, data_range=volume_real_B.max() - volume_real_B.min())\n",
    "    ssim_values.append(ssim_value)\n",
    "    print(f\"paciente: {id_paciente}, SSIM: {ssim_value:.3f}\")"
   ]
  },
  {
   "cell_type": "markdown",
   "id": "d9bbc7be-b974-4efd-a343-422fbef881ae",
   "metadata": {},
   "source": [
    "## **promedio SSIM de todos los pacientes**"
   ]
  },
  {
   "cell_type": "code",
   "execution_count": 11,
   "id": "f0af7ba0-b429-40b6-acc6-7e778d8dbae2",
   "metadata": {},
   "outputs": [
    {
     "name": "stdout",
     "output_type": "stream",
     "text": [
      "SSIM Promedio: 0.870, Desviación Estándar SSIM: 0.0436\n"
     ]
    }
   ],
   "source": [
    "promedio_ssim = np.mean(ssim_values)\n",
    "desviacion_estandar_ssim = np.std(ssim_values)\n",
    "print(f\"SSIM Promedio: {promedio_ssim:.3f}, Desviación Estándar SSIM: {desviacion_estandar_ssim:.4f}\")"
   ]
  },
  {
   "cell_type": "markdown",
   "id": "af341dbf-2f81-4809-b308-be834d5f1819",
   "metadata": {},
   "source": [
    "# **CÁLCULO DEL PSNR**"
   ]
  },
  {
   "cell_type": "code",
   "execution_count": 12,
   "id": "9806472a-4571-4946-a195-b7981123e125",
   "metadata": {},
   "outputs": [
    {
     "name": "stdout",
     "output_type": "stream",
     "text": [
      "paciente: 000, PSNR: 20.741\n",
      "paciente: 001, PSNR: 21.537\n",
      "paciente: 002, PSNR: 22.119\n",
      "paciente: 003, PSNR: 20.580\n",
      "paciente: 004, PSNR: 22.025\n",
      "paciente: 005, PSNR: 22.371\n",
      "paciente: 006, PSNR: 21.690\n",
      "paciente: 007, PSNR: 22.050\n",
      "paciente: 008, PSNR: 21.255\n",
      "paciente: 009, PSNR: 21.426\n",
      "paciente: 010, PSNR: 21.898\n",
      "paciente: 011, PSNR: 22.172\n",
      "paciente: 012, PSNR: 22.875\n",
      "paciente: 013, PSNR: 23.565\n",
      "paciente: 014, PSNR: 23.582\n",
      "paciente: 015, PSNR: 22.907\n",
      "paciente: 016, PSNR: 23.112\n",
      "paciente: 017, PSNR: 21.417\n",
      "paciente: 018, PSNR: 23.018\n",
      "paciente: 019, PSNR: 22.578\n",
      "paciente: 020, PSNR: 21.480\n",
      "paciente: 021, PSNR: 22.034\n",
      "paciente: 022, PSNR: 22.120\n",
      "paciente: 023, PSNR: 13.408\n",
      "paciente: 024, PSNR: 23.227\n",
      "paciente: 025, PSNR: 20.569\n",
      "paciente: 026, PSNR: 21.707\n",
      "paciente: 027, PSNR: 13.249\n",
      "paciente: 028, PSNR: 22.723\n",
      "paciente: 029, PSNR: 22.711\n",
      "paciente: 030, PSNR: 22.046\n",
      "paciente: 031, PSNR: 21.030\n",
      "paciente: 032, PSNR: 20.771\n",
      "paciente: 033, PSNR: 21.773\n",
      "paciente: 034, PSNR: 22.618\n",
      "paciente: 035, PSNR: 14.458\n",
      "paciente: 036, PSNR: 23.287\n",
      "paciente: 037, PSNR: 20.013\n"
     ]
    }
   ],
   "source": [
    "carpetas_pacientes_real_B = sorted(Path(ruta_real_B).glob(\"*\"))\n",
    "carpetas_pacientes_fake_B = sorted(Path(ruta_fake_B).glob(\"*\"))\n",
    "\n",
    "psnr_values = []\n",
    "\n",
    "for carpeta_paciente_real_B, carpeta_paciente_fake_B in zip(carpetas_pacientes_real_B, carpetas_pacientes_fake_B):\n",
    "    id_paciente = carpeta_paciente_real_B.stem\n",
    "    archivos_real_B = sorted(carpeta_paciente_real_B.glob(\"*.png\"))\n",
    "    archivos_fake_B = sorted(carpeta_paciente_fake_B.glob(\"*.png\"))\n",
    "\n",
    "    imagenes_real_B = [plt.imread(str(f)) for f in archivos_real_B]\n",
    "    imagenes_fake_B = [plt.imread(str(f)) for f in archivos_fake_B]\n",
    "\n",
    "    for i, img in enumerate(imagenes_real_B):\n",
    "        assert img.shape == (256, 256), f\"Image {i} in real_B has shape {img.shape}\"\n",
    "    for i, img in enumerate(imagenes_fake_B):\n",
    "        assert img.shape == (256, 256), f\"Image {i} in fake_B has shape {img.shape}\"\n",
    "\n",
    "    volume_real_B = np.stack(imagenes_real_B, axis=-1)\n",
    "    volume_fake_B = np.stack(imagenes_fake_B, axis=-1)\n",
    "\n",
    "    psnr_value = psnr(volume_real_B, volume_fake_B)\n",
    "    psnr_values.append(psnr_value)\n",
    "    print(f\"paciente: {id_paciente}, PSNR: {psnr_value:.3f}\")"
   ]
  },
  {
   "cell_type": "markdown",
   "id": "01d7c078-0f5c-4430-b0e1-2d95f4c64321",
   "metadata": {},
   "source": [
    "## **Promedio PSNR de todos los pacientes**"
   ]
  },
  {
   "cell_type": "code",
   "execution_count": 13,
   "id": "4050b580-f1dc-46df-9f5a-bf51113e49c5",
   "metadata": {},
   "outputs": [
    {
     "name": "stdout",
     "output_type": "stream",
     "text": [
      "PSNR Promedio: 21.372, Desviación Estándar PSNR: 2.407\n"
     ]
    }
   ],
   "source": [
    "promedio_psnr = np.mean(psnr_values)\n",
    "desviacion_estandar_psnr = np.std(psnr_values)\n",
    "print(f\"PSNR Promedio: {promedio_psnr:.3f}, Desviación Estándar PSNR: {desviacion_estandar_psnr:.3f}\")"
   ]
  },
  {
   "cell_type": "markdown",
   "id": "7b9f9005-4194-48d7-9f99-1721d2e64f0c",
   "metadata": {},
   "source": [
    "###### **CÁLCULO DE MS-SSIM**"
   ]
  },
  {
   "cell_type": "code",
   "execution_count": 14,
   "id": "53eafc71-fed6-4498-a383-c83a169cfe01",
   "metadata": {},
   "outputs": [
    {
     "name": "stdout",
     "output_type": "stream",
     "text": [
      "paciente: 000, MS-SSIM: 0.888\n",
      "paciente: 001, MS-SSIM: 0.869\n",
      "paciente: 002, MS-SSIM: 0.895\n",
      "paciente: 003, MS-SSIM: 0.860\n",
      "paciente: 004, MS-SSIM: 0.876\n",
      "paciente: 005, MS-SSIM: 0.850\n",
      "paciente: 006, MS-SSIM: 0.889\n",
      "paciente: 007, MS-SSIM: 0.901\n",
      "paciente: 008, MS-SSIM: 0.865\n",
      "paciente: 009, MS-SSIM: 0.877\n",
      "paciente: 010, MS-SSIM: 0.899\n",
      "paciente: 011, MS-SSIM: 0.882\n",
      "paciente: 012, MS-SSIM: 0.911\n",
      "paciente: 013, MS-SSIM: 0.914\n",
      "paciente: 014, MS-SSIM: 0.899\n",
      "paciente: 015, MS-SSIM: 0.911\n",
      "paciente: 016, MS-SSIM: 0.896\n",
      "paciente: 017, MS-SSIM: 0.891\n",
      "paciente: 018, MS-SSIM: 0.893\n",
      "paciente: 019, MS-SSIM: 0.895\n",
      "paciente: 020, MS-SSIM: 0.888\n",
      "paciente: 021, MS-SSIM: 0.878\n",
      "paciente: 022, MS-SSIM: 0.873\n",
      "paciente: 023, MS-SSIM: 0.657\n",
      "paciente: 024, MS-SSIM: 0.904\n",
      "paciente: 025, MS-SSIM: 0.877\n",
      "paciente: 026, MS-SSIM: 0.893\n",
      "paciente: 027, MS-SSIM: 0.647\n",
      "paciente: 028, MS-SSIM: 0.901\n",
      "paciente: 029, MS-SSIM: 0.897\n",
      "paciente: 030, MS-SSIM: 0.882\n",
      "paciente: 031, MS-SSIM: 0.842\n",
      "paciente: 032, MS-SSIM: 0.837\n",
      "paciente: 033, MS-SSIM: 0.899\n",
      "paciente: 034, MS-SSIM: 0.887\n",
      "paciente: 035, MS-SSIM: 0.676\n",
      "paciente: 036, MS-SSIM: 0.899\n",
      "paciente: 037, MS-SSIM: 0.825\n"
     ]
    }
   ],
   "source": [
    "# Obtener la lista de carpetas de pacientes\n",
    "carpetas_pacientes_real_B = sorted(Path(ruta_real_B).glob(\"*\"))\n",
    "carpetas_pacientes_fake_B = sorted(Path(ruta_fake_B).glob(\"*\"))\n",
    "\n",
    "ms_ssim = MultiScaleStructuralSimilarityIndexMeasure()\n",
    "\n",
    "ms_ssim_values = []\n",
    "\n",
    "for carpeta_paciente_real_B, carpeta_paciente_fake_B in zip(carpetas_pacientes_real_B, carpetas_pacientes_fake_B):\n",
    "    id_paciente = carpeta_paciente_real_B.stem\n",
    "    archivos_real_B = sorted(carpeta_paciente_real_B.glob(\"*.png\"))\n",
    "    archivos_fake_B = sorted(carpeta_paciente_fake_B.glob(\"*.png\"))\n",
    "\n",
    "    imagenes_real_B = [to_tensor(Image.open(str(f))) for f in archivos_real_B]\n",
    "    imagenes_fake_B = [to_tensor(Image.open(str(f))) for f in archivos_fake_B]\n",
    "\n",
    "    for i, img in enumerate(imagenes_real_B):\n",
    "        assert img.shape == (1, 256, 256), f\"Image {i} in real_B has shape {img.shape}\"\n",
    "    for i, img in enumerate(imagenes_fake_B):\n",
    "        assert img.shape == (1, 256, 256), f\"Image {i} in fake_B has shape {img.shape}\"\n",
    "\n",
    "    volume_real_B = torch.stack(imagenes_real_B, dim=0)\n",
    "    volume_fake_B = torch.stack(imagenes_fake_B, dim=0)\n",
    "\n",
    "    ms_ssim_value = ms_ssim(volume_fake_B, volume_real_B)\n",
    "    ms_ssim_values.append(ms_ssim_value)  # Agregar valor de MS-SSIM a la lista\n",
    "    print(f\"paciente: {id_paciente}, MS-SSIM: {ms_ssim_value:.3f}\")"
   ]
  },
  {
   "cell_type": "markdown",
   "id": "13fc489c-c960-4ba8-9fd2-15b5fddb3c39",
   "metadata": {},
   "source": [
    "## **Promedio MS-SSIM de todos los pacientes**"
   ]
  },
  {
   "cell_type": "code",
   "execution_count": 15,
   "id": "e16899cd-7798-4496-ae6a-82da4f0bb946",
   "metadata": {},
   "outputs": [
    {
     "name": "stdout",
     "output_type": "stream",
     "text": [
      "MS-SSIM Promedio: 0.866, Desviación Estándar MS-SSIM: 0.0637\n"
     ]
    }
   ],
   "source": [
    "promedio_ms_ssim = np.mean(ms_ssim_values)\n",
    "desviacion_estandar_ms_ssim = np.std(ms_ssim_values)\n",
    "print(f\"MS-SSIM Promedio: {promedio_ms_ssim:.3f}, Desviación Estándar MS-SSIM: {desviacion_estandar_ms_ssim:.4f}\")"
   ]
  },
  {
   "cell_type": "markdown",
   "id": "a241ed92-ecc6-4a78-bfc2-57de0eef00ff",
   "metadata": {},
   "source": [
    "## **CREAR NPY**"
   ]
  },
  {
   "cell_type": "code",
   "execution_count": 16,
   "id": "eae1a301-7d8f-48ed-bc53-c085753000a3",
   "metadata": {},
   "outputs": [],
   "source": [
    "# Obtener la lista de carpetas de pacientes\n",
    "carpetas_pacientes_real_B = sorted(Path(ruta_real_B).glob(\"*\"))\n",
    "carpetas_pacientes_fake_B = sorted(Path(ruta_fake_B).glob(\"*\"))\n",
    "\n",
    "for carpeta_paciente_real_B, carpeta_paciente_fake_B in zip(carpetas_pacientes_real_B, carpetas_pacientes_fake_B):\n",
    "    id_paciente = carpeta_paciente_real_B.stem\n",
    "    archivos_real_B = sorted(carpeta_paciente_real_B.glob(\"*.png\"))\n",
    "    archivos_fake_B = sorted(carpeta_paciente_fake_B.glob(\"*.png\"))\n",
    "\n",
    "    imagenes_real_B = [plt.imread(str(f)) for f in archivos_real_B]\n",
    "    imagenes_fake_B = [plt.imread(str(f)) for f in archivos_fake_B]\n",
    "\n",
    "    for i, img in enumerate(imagenes_real_B):\n",
    "        assert img.shape == (256, 256), f\"Image {i} in real_B has shape {img.shape}\"\n",
    "    for i, img in enumerate(imagenes_fake_B):\n",
    "        assert img.shape == (256, 256), f\"Image {i} in fake_B has shape {img.shape}\"\n",
    "\n",
    "    volume_real_B = np.stack(imagenes_real_B, axis=-1)\n",
    "    volume_fake_B = np.stack(imagenes_fake_B, axis=-1)\n",
    "\n",
    "    # Guardar los volúmenes como archivos numpy (npy)\n",
    "    np.save(f'volume_real_{id_paciente}.npy', volume_real_B)\n",
    "    np.save(f'volume_fake_{id_paciente}.npy', volume_fake_B)"
   ]
  },
  {
   "cell_type": "markdown",
   "id": "e8ecfdff-b6e0-47d0-a80a-615d68ec9b1f",
   "metadata": {},
   "source": [
    "# **TAMAÑO DE LESIÓN**"
   ]
  },
  {
   "cell_type": "markdown",
   "id": "56facd93-c4f0-4326-bcec-a59e8b4c3a36",
   "metadata": {},
   "source": [
    "# **Lesiones diminutas (tiny)**"
   ]
  },
  {
   "cell_type": "code",
   "execution_count": 17,
   "id": "d7a3df96-40ca-4ab8-9f5a-f97786694563",
   "metadata": {},
   "outputs": [
    {
     "name": "stdout",
     "output_type": "stream",
     "text": [
      "SSIM Promedio: 0.894, Desviación Estándar SSIM: 0.012\n",
      "PSNR Promedio: 21.984, Desviación Estándar PSNR: 0.996\n"
     ]
    }
   ],
   "source": [
    "lista_pacientes_tiny = [\"000\", \"007\", \"010\", \"011\", \"012\", \"014\", \"025\"]\n",
    "\n",
    "ssim_values = []\n",
    "psnr_values = []\n",
    "\n",
    "for id_paciente in lista_pacientes_tiny:\n",
    "    volume_real_B = np.load(f'volume_real_{id_paciente}.npy')\n",
    "    volume_fake_B = np.load(f'volume_fake_{id_paciente}.npy')\n",
    "\n",
    "    ssim_value = ssim(volume_real_B, volume_fake_B, data_range=volume_real_B.max() - volume_real_B.min())\n",
    "    psnr_value = psnr(volume_real_B, volume_fake_B)\n",
    "\n",
    "    ssim_values.append(ssim_value)\n",
    "    psnr_values.append(psnr_value)\n",
    "0.\n",
    "promedio_ssim = np.mean(ssim_values)\n",
    "desviacion_estandar_ssim = np.std(ssim_values)\n",
    "print(f\"SSIM Promedio: {promedio_ssim:.3f}, Desviación Estándar SSIM: {desviacion_estandar_ssim:.3f}\")\n",
    "\n",
    "promedio_psnr = np.mean(psnr_values)\n",
    "desviacion_estandar_psnr = np.std(psnr_values)\n",
    "print(f\"PSNR Promedio: {promedio_psnr:.3f}, Desviación Estándar PSNR: {desviacion_estandar_psnr:.3f}\")"
   ]
  },
  {
   "cell_type": "code",
   "execution_count": 18,
   "id": "3ae736fe-5e6b-45b7-b5c0-67cd30558271",
   "metadata": {},
   "outputs": [
    {
     "name": "stdout",
     "output_type": "stream",
     "text": [
      "MS-SSIM Promedio: 0.894, Desviación Estándar MS-SSIM: 0.011\n"
     ]
    }
   ],
   "source": [
    "#Cálculo del MS-SSIM\n",
    "ms_ssim_values = []\n",
    "\n",
    "for id_paciente in lista_pacientes_tiny:\n",
    "    archivos_real_B = sorted(Path(f'results/p2p_esp_NCCT2DWI/test_latest/images_grayscale/real_B/{id_paciente}').glob(\"*.png\"))\n",
    "    archivos_fake_B = sorted(Path(f'results/p2p_esp_NCCT2DWI/test_latest/images_grayscale/fake_B/{id_paciente}').glob(\"*.png\"))\n",
    "\n",
    "    imagenes_real_B = [to_tensor(Image.open(str(f))) for f in archivos_real_B]\n",
    "    imagenes_fake_B = [to_tensor(Image.open(str(f))) for f in archivos_fake_B]\n",
    "\n",
    "    for i, img in enumerate(imagenes_real_B):\n",
    "        assert img.shape == (1, 256, 256), f\"Image {i} in real_B has shape {img.shape}\"\n",
    "    for i, img in enumerate(imagenes_fake_B):\n",
    "        assert img.shape == (1, 256, 256), f\"Image {i} in fake_B has shape {img.shape}\"\n",
    "\n",
    "    volume_real_B = torch.stack(imagenes_real_B, dim=0)\n",
    "    volume_fake_B = torch.stack(imagenes_fake_B, dim=0)\n",
    "\n",
    "    ms_ssim_value = ms_ssim(volume_fake_B, volume_real_B)\n",
    "    ms_ssim_values.append(ms_ssim_value) \n",
    "    #print(f\"Paciente: {id_paciente}, MS-SSIM: {ms_ssim_value:.4f}\")\n",
    "\n",
    "# Calcular promedio y desviación estándar para MS-SSIM\n",
    "promedio_ms_ssim = np.mean(ms_ssim_values)\n",
    "desviacion_estandar_ms_ssim = np.std(ms_ssim_values)\n",
    "print(f\"MS-SSIM Promedio: {promedio_ms_ssim:.3f}, Desviación Estándar MS-SSIM: {desviacion_estandar_ms_ssim:.3f}\")"
   ]
  },
  {
   "cell_type": "markdown",
   "id": "4388251b-7863-4db6-96b3-7b0d1c4a6460",
   "metadata": {},
   "source": [
    "# **Lesiones pequeñas (small)**"
   ]
  },
  {
   "cell_type": "code",
   "execution_count": 19,
   "id": "d124aab8-692e-4393-aba0-b4725597e3e7",
   "metadata": {},
   "outputs": [
    {
     "name": "stdout",
     "output_type": "stream",
     "text": [
      "SSIM Promedio: 0.858, Desviación Estándar SSIM: 0.050\n",
      "PSNR Promedio: 21.099, Desviación Estándar PSNR: 2.845\n"
     ]
    }
   ],
   "source": [
    "lista_pacientes_small = [\"002\",\n",
    "\"003\",\n",
    "\"008\",\n",
    "\"013\",\n",
    "\"016\",\n",
    "\"021\",\n",
    "\"023\",\n",
    "\"030\",\n",
    "\"033\"\n",
    "]\n",
    "\n",
    "ssim_values = []\n",
    "psnr_values = []\n",
    "\n",
    "for id_paciente in lista_pacientes_small:\n",
    "    volume_real_B = np.load(f'volume_real_{id_paciente}.npy')\n",
    "    volume_fake_B = np.load(f'volume_fake_{id_paciente}.npy')\n",
    "\n",
    "    ssim_value = ssim(volume_real_B, volume_fake_B, data_range=volume_real_B.max() - volume_real_B.min())\n",
    "    psnr_value = psnr(volume_real_B, volume_fake_B)\n",
    "\n",
    "    ssim_values.append(ssim_value)\n",
    "    psnr_values.append(psnr_value)\n",
    "\n",
    "promedio_ssim = np.mean(ssim_values)\n",
    "desviacion_estandar_ssim = np.std(ssim_values)\n",
    "print(f\"SSIM Promedio: {promedio_ssim:.3f}, Desviación Estándar SSIM: {desviacion_estandar_ssim:.3f}\")\n",
    "\n",
    "promedio_psnr = np.mean(psnr_values)\n",
    "desviacion_estandar_psnr = np.std(psnr_values)\n",
    "print(f\"PSNR Promedio: {promedio_psnr:.3f}, Desviación Estándar PSNR: {desviacion_estandar_psnr:.3f}\")"
   ]
  },
  {
   "cell_type": "code",
   "execution_count": 20,
   "id": "8c4488af-2769-4b9e-81e2-faaf20ecee5f",
   "metadata": {},
   "outputs": [
    {
     "name": "stdout",
     "output_type": "stream",
     "text": [
      "MS-SSIM Promedio: 0.861, Desviación Estándar MS-SSIM: 0.074\n"
     ]
    }
   ],
   "source": [
    "#Cálculo del MS-SSIM\n",
    "ms_ssim_values = []\n",
    "\n",
    "for id_paciente in lista_pacientes_small:\n",
    "    archivos_real_B = sorted(Path(f'results/p2p_esp_NCCT2DWI/test_latest/images_grayscale/real_B/{id_paciente}').glob(\"*.png\"))\n",
    "    archivos_fake_B = sorted(Path(f'results/p2p_esp_NCCT2DWI/test_latest/images_grayscale/fake_B/{id_paciente}').glob(\"*.png\"))\n",
    "\n",
    "    imagenes_real_B = [to_tensor(Image.open(str(f))) for f in archivos_real_B]\n",
    "    imagenes_fake_B = [to_tensor(Image.open(str(f))) for f in archivos_fake_B]\n",
    "\n",
    "    for i, img in enumerate(imagenes_real_B):\n",
    "        assert img.shape == (1, 256, 256), f\"Image {i} in real_B has shape {img.shape}\"\n",
    "    for i, img in enumerate(imagenes_fake_B):\n",
    "        assert img.shape == (1, 256, 256), f\"Image {i} in fake_B has shape {img.shape}\"\n",
    "\n",
    "    volume_real_B = torch.stack(imagenes_real_B, dim=0)\n",
    "    volume_fake_B = torch.stack(imagenes_fake_B, dim=0)\n",
    "\n",
    "    ms_ssim_value = ms_ssim(volume_fake_B, volume_real_B)\n",
    "    ms_ssim_values.append(ms_ssim_value) \n",
    "    #print(f\"Paciente: {id_paciente}, MS-SSIM: {ms_ssim_value:.4f}\")\n",
    "\n",
    "# Calcular promedio y desviación estándar para MS-SSIM\n",
    "promedio_ms_ssim = np.mean(ms_ssim_values)\n",
    "desviacion_estandar_ms_ssim = np.std(ms_ssim_values)\n",
    "print(f\"MS-SSIM Promedio: {promedio_ms_ssim:.3f}, Desviación Estándar MS-SSIM: {desviacion_estandar_ms_ssim:.3f}\")"
   ]
  },
  {
   "cell_type": "markdown",
   "id": "2947018b-d5f0-4c09-8d28-1ca469f49884",
   "metadata": {},
   "source": [
    "# **Lesiones medianas (medium)**"
   ]
  },
  {
   "cell_type": "code",
   "execution_count": 21,
   "id": "3950d2b0-da4f-4fcc-9438-3af7bffcc28f",
   "metadata": {},
   "outputs": [
    {
     "name": "stdout",
     "output_type": "stream",
     "text": [
      "SSIM Promedio: 0.874, Desviación Estándar SSIM: 0.021\n",
      "PSNR Promedio: 22.002, Desviación Estándar PSNR: 0.624\n"
     ]
    }
   ],
   "source": [
    "lista_pacientes_medium = [\"005\",\n",
    "\"006\",\n",
    "\"009\",\n",
    "\"015\",\n",
    "\"017\",\n",
    "\"018\",\n",
    "\"020\",\n",
    "\"026\"\n",
    "]\n",
    "\n",
    "ssim_values = []\n",
    "psnr_values = []\n",
    "\n",
    "for id_paciente in lista_pacientes_medium:\n",
    "    volume_real_B = np.load(f'volume_real_{id_paciente}.npy')\n",
    "    volume_fake_B = np.load(f'volume_fake_{id_paciente}.npy')\n",
    "\n",
    "    ssim_value = ssim(volume_real_B, volume_fake_B, data_range=volume_real_B.max() - volume_real_B.min())\n",
    "    psnr_value = psnr(volume_real_B, volume_fake_B)\n",
    "\n",
    "    ssim_values.append(ssim_value)\n",
    "    psnr_values.append(psnr_value)\n",
    "\n",
    "promedio_ssim = np.mean(ssim_values)\n",
    "desviacion_estandar_ssim = np.std(ssim_values)\n",
    "print(f\"SSIM Promedio: {promedio_ssim:.3f}, Desviación Estándar SSIM: {desviacion_estandar_ssim:.3f}\")\n",
    "\n",
    "promedio_psnr = np.mean(psnr_values)\n",
    "desviacion_estandar_psnr = np.std(psnr_values)\n",
    "print(f\"PSNR Promedio: {promedio_psnr:.3f}, Desviación Estándar PSNR: {desviacion_estandar_psnr:.3f}\")"
   ]
  },
  {
   "cell_type": "code",
   "execution_count": 22,
   "id": "ca8d94aa-cf2e-48b3-bdd4-5d3732191fd9",
   "metadata": {},
   "outputs": [
    {
     "name": "stdout",
     "output_type": "stream",
     "text": [
      "MS-SSIM Promedio: 0.886, Desviación Estándar MS-SSIM: 0.016\n"
     ]
    }
   ],
   "source": [
    "#Cálculo del MS-SSIM\n",
    "ms_ssim_values = []\n",
    "\n",
    "for id_paciente in lista_pacientes_medium:\n",
    "    archivos_real_B = sorted(Path(f'results/p2p_esp_NCCT2DWI/test_latest/images_grayscale/real_B/{id_paciente}').glob(\"*.png\"))\n",
    "    archivos_fake_B = sorted(Path(f'results/p2p_esp_NCCT2DWI/test_latest/images_grayscale/fake_B/{id_paciente}').glob(\"*.png\"))\n",
    "\n",
    "    imagenes_real_B = [to_tensor(Image.open(str(f))) for f in archivos_real_B]\n",
    "    imagenes_fake_B = [to_tensor(Image.open(str(f))) for f in archivos_fake_B]\n",
    "\n",
    "    for i, img in enumerate(imagenes_real_B):\n",
    "        assert img.shape == (1, 256, 256), f\"Image {i} in real_B has shape {img.shape}\"\n",
    "    for i, img in enumerate(imagenes_fake_B):\n",
    "        assert img.shape == (1, 256, 256), f\"Image {i} in fake_B has shape {img.shape}\"\n",
    "\n",
    "    volume_real_B = torch.stack(imagenes_real_B, dim=0)\n",
    "    volume_fake_B = torch.stack(imagenes_fake_B, dim=0)\n",
    "\n",
    "    ms_ssim_value = ms_ssim(volume_fake_B, volume_real_B)\n",
    "    ms_ssim_values.append(ms_ssim_value) \n",
    "    #print(f\"Paciente: {id_paciente}, MS-SSIM: {ms_ssim_value:.4f}\")\n",
    "\n",
    "# Calcular promedio y desviación estándar para MS-SSIM\n",
    "promedio_ms_ssim = np.mean(ms_ssim_values)\n",
    "desviacion_estandar_ms_ssim = np.std(ms_ssim_values)\n",
    "print(f\"MS-SSIM Promedio: {promedio_ms_ssim:.3f}, Desviación Estándar MS-SSIM: {desviacion_estandar_ms_ssim:.3f}\")"
   ]
  },
  {
   "cell_type": "markdown",
   "id": "6e92abf3-92ef-4438-89a9-e1858170d0c6",
   "metadata": {},
   "source": [
    "# **Lesiones grandes (large)**"
   ]
  },
  {
   "cell_type": "code",
   "execution_count": 23,
   "id": "1a73cb6c-fed9-45ab-b59f-6987cae9ee2f",
   "metadata": {},
   "outputs": [
    {
     "name": "stdout",
     "output_type": "stream",
     "text": [
      "SSIM Promedio: 0.880, Desviación Estándar SSIM: 0.017\n",
      "PSNR Promedio: 21.984, Desviación Estándar PSNR: 1.044\n"
     ]
    }
   ],
   "source": [
    "lista_pacientes_large = [\"019\",\n",
    "\"022\",\n",
    "\"028\",\n",
    "\"029\",\n",
    "\"031\",\n",
    "\"032\",\n",
    "\"034\",\n",
    "\"036\",\n",
    "\"037\"\n",
    "]\n",
    "\n",
    "ssim_values = []\n",
    "psnr_values = []\n",
    "\n",
    "for id_paciente in lista_pacientes_large:\n",
    "    volume_real_B = np.load(f'volume_real_{id_paciente}.npy')\n",
    "    volume_fake_B = np.load(f'volume_fake_{id_paciente}.npy')\n",
    "\n",
    "    ssim_value = ssim(volume_real_B, volume_fake_B, data_range=volume_real_B.max() - volume_real_B.min())\n",
    "    psnr_value = psnr(volume_real_B, volume_fake_B)\n",
    "\n",
    "    ssim_values.append(ssim_value)\n",
    "    psnr_values.append(psnr_value)\n",
    "\n",
    "promedio_ssim = np.mean(ssim_values)\n",
    "desviacion_estandar_ssim = np.std(ssim_values)\n",
    "print(f\"SSIM Promedio: {promedio_ssim:.3f}, Desviación Estándar SSIM: {desviacion_estandar_ssim:.3f}\")\n",
    "\n",
    "promedio_psnr = np.mean(psnr_values)\n",
    "desviacion_estandar_psnr = np.std(psnr_values)\n",
    "print(f\"PSNR Promedio: {promedio_psnr:.3f}, Desviación Estándar PSNR: {desviacion_estandar_psnr:.3f}\")"
   ]
  },
  {
   "cell_type": "code",
   "execution_count": 24,
   "id": "abc74be4-929f-4906-a926-f3740af31299",
   "metadata": {},
   "outputs": [
    {
     "name": "stdout",
     "output_type": "stream",
     "text": [
      "MS-SSIM Promedio: 0.873, Desviación Estándar MS-SSIM: 0.028\n"
     ]
    }
   ],
   "source": [
    "#Cálculo del MS-SSIM\n",
    "ms_ssim_values = []\n",
    "\n",
    "for id_paciente in lista_pacientes_large:\n",
    "    archivos_real_B = sorted(Path(f'results/p2p_esp_NCCT2DWI/test_latest/images_grayscale/real_B/{id_paciente}').glob(\"*.png\"))\n",
    "    archivos_fake_B = sorted(Path(f'results/p2p_esp_NCCT2DWI/test_latest/images_grayscale/fake_B/{id_paciente}').glob(\"*.png\"))\n",
    "\n",
    "    imagenes_real_B = [to_tensor(Image.open(str(f))) for f in archivos_real_B]\n",
    "    imagenes_fake_B = [to_tensor(Image.open(str(f))) for f in archivos_fake_B]\n",
    "\n",
    "    for i, img in enumerate(imagenes_real_B):\n",
    "        assert img.shape == (1, 256, 256), f\"Image {i} in real_B has shape {img.shape}\"\n",
    "    for i, img in enumerate(imagenes_fake_B):\n",
    "        assert img.shape == (1, 256, 256), f\"Image {i} in fake_B has shape {img.shape}\"\n",
    "\n",
    "    volume_real_B = torch.stack(imagenes_real_B, dim=0)\n",
    "    volume_fake_B = torch.stack(imagenes_fake_B, dim=0)\n",
    "\n",
    "    ms_ssim_value = ms_ssim(volume_fake_B, volume_real_B)\n",
    "    ms_ssim_values.append(ms_ssim_value) \n",
    "    #print(f\"Paciente: {id_paciente}, MS-SSIM: {ms_ssim_value:.4f}\")\n",
    "\n",
    "# Calcular promedio y desviación estándar para MS-SSIM\n",
    "promedio_ms_ssim = np.mean(ms_ssim_values)\n",
    "desviacion_estandar_ms_ssim = np.std(ms_ssim_values)\n",
    "print(f\"MS-SSIM Promedio: {promedio_ms_ssim:.3f}, Desviación Estándar MS-SSIM: {desviacion_estandar_ms_ssim:.3f}\")"
   ]
  },
  {
   "cell_type": "markdown",
   "id": "cf553f69-1011-4930-a379-30396f2e0106",
   "metadata": {},
   "source": [
    "# **Sin lesión (no_lesion)**"
   ]
  },
  {
   "cell_type": "code",
   "execution_count": 25,
   "id": "6101cf8e-a660-437c-b742-b4a94b545999",
   "metadata": {},
   "outputs": [
    {
     "name": "stdout",
     "output_type": "stream",
     "text": [
      "SSIM Promedio: 0.898, Desviación Estándar SSIM: 0.008\n",
      "PSNR Promedio: 22.263, Desviación Estándar PSNR: 0.710\n"
     ]
    }
   ],
   "source": [
    "lista_pacientes_no_lesion = [\"001\",\n",
    "\"004\",0.\n",
    "\"024\"\n",
    "]\n",
    "\n",
    "ssim_values = []\n",
    "psnr_values = []\n",
    "\n",
    "for id_paciente in lista_pacientes_no_lesion:\n",
    "    volume_real_B = np.load(f'volume_real_{id_paciente}.npy')\n",
    "    volume_fake_B = np.load(f'volume_fake_{id_paciente}.npy')\n",
    "\n",
    "    ssim_value = ssim(volume_real_B, volume_fake_B, data_range=volume_real_B.max() - volume_real_B.min())\n",
    "    psnr_value = psnr(volume_real_B, volume_fake_B)\n",
    "\n",
    "    ssim_values.append(ssim_value)\n",
    "    psnr_values.append(psnr_value)\n",
    "\n",
    "promedio_ssim = np.mean(ssim_values)\n",
    "desviacion_estandar_ssim = np.std(ssim_values)\n",
    "print(f\"SSIM Promedio: {promedio_ssim:.3f}, Desviación Estándar SSIM: {desviacion_estandar_ssim:.3f}\")\n",
    "\n",
    "promedio_psnr = np.mean(psnr_values)\n",
    "desviacion_estandar_psnr = np.std(psnr_values)\n",
    "print(f\"PSNR Promedio: {promedio_psnr:.3f}, Desviación Estándar PSNR: {desviacion_estandar_psnr:.3f}\")"
   ]
  },
  {
   "cell_type": "code",
   "execution_count": 26,
   "id": "db5e0db8-9092-42d0-b548-a91a5546b5fa",
   "metadata": {},
   "outputs": [
    {
     "name": "stdout",
     "output_type": "stream",
     "text": [
      "MS-SSIM Promedio: 0.883, Desviación Estándar MS-SSIM: 0.015\n"
     ]
    }
   ],
   "source": [
    "#Cálculo del MS-SSIM\n",
    "ms_ssim_values = []\n",
    "\n",
    "for id_paciente in lista_pacientes_no_lesion:\n",
    "    archivos_real_B = sorted(Path(f'results/p2p_esp_NCCT2DWI/test_latest/images_grayscale/real_B/{id_paciente}').glob(\"*.png\"))\n",
    "    archivos_fake_B = sorted(Path(f'results/p2p_esp_NCCT2DWI/test_latest/images_grayscale/fake_B/{id_paciente}').glob(\"*.png\"))\n",
    "\n",
    "    imagenes_real_B = [to_tensor(Image.open(str(f))) for f in archivos_real_B]\n",
    "    imagenes_fake_B = [to_tensor(Image.open(str(f))) for f in archivos_fake_B]\n",
    "\n",
    "    for i, img in enumerate(imagenes_real_B):\n",
    "        assert img.shape == (1, 256, 256), f\"Image {i} in real_B has shape {img.shape}\"\n",
    "    for i, img in enumerate(imagenes_fake_B):\n",
    "        assert img.shape == (1, 256, 256), f\"Image {i} in fake_B has shape {img.shape}\"\n",
    "\n",
    "    volume_real_B = torch.stack(imagenes_real_B, dim=0)\n",
    "    volume_fake_B = torch.stack(imagenes_fake_B, dim=0)\n",
    "\n",
    "    ms_ssim_value = ms_ssim(volume_fake_B, volume_real_B)\n",
    "    ms_ssim_values.append(ms_ssim_value) \n",
    "    #print(f\"Paciente: {id_paciente}, MS-SSIM: {ms_ssim_value:.4f}\")\n",
    "\n",
    "# Calcular promedio y desviación estándar para MS-SSIM\n",
    "promedio_ms_ssim = np.mean(ms_ssim_values)\n",
    "desviacion_estandar_ms_ssim = np.std(ms_ssim_values)\n",
    "print(f\"MS-SSIM Promedio: {promedio_ms_ssim:.3f}, Desviación Estándar MS-SSIM: {desviacion_estandar_ms_ssim:.3f}\")"
   ]
  },
  {
   "cell_type": "markdown",
   "id": "a498e9bd-6e2e-4331-8ffe-38228c12a1ad",
   "metadata": {},
   "source": [
    "# **VISIBILIDAD DE LESIONES**"
   ]
  },
  {
   "cell_type": "markdown",
   "id": "341d8ae3-cb4f-4a75-847f-c81d8593ecd1",
   "metadata": {},
   "source": [
    "# **Es visible**"
   ]
  },
  {
   "cell_type": "code",
   "execution_count": 27,
   "id": "a7086fec-3322-4527-9904-bed41971e517",
   "metadata": {},
   "outputs": [
    {
     "name": "stdout",
     "output_type": "stream",
     "text": [
      "SSIM Promedio: 0.875, Desviación Estándar SSIM: 0.019\n",
      "PSNR Promedio: 21.903, Desviación Estándar PSNR: 0.783\n"
     ]
    }
   ],
   "source": [
    "lista_pacientes_visible = [\"003\",\n",
    "\"005\",\n",
    "\"006\",\n",
    "\"007\",\n",
    "\"009\",\n",
    "\"011\",\n",
    "\"015\",\n",
    "\"017\",\n",
    "\"018\",\n",
    "\"019\",\n",
    "\"020\",\n",
    "\"021\",\n",
    "\"022\",\n",
    "\"029\",\n",
    "\"030\",\n",
    "\"031\",\n",
    "\"034\",\n",
    "\"037\"\n",
    "]\n",
    "\n",
    "ssim_values = []\n",
    "psnr_values = []\n",
    "\n",
    "for id_paciente in lista_pacientes_visible:\n",
    "    volume_real_B = np.load(f'volume_real_{id_paciente}.npy')\n",
    "    volume_fake_B = np.load(f'volume_fake_{id_paciente}.npy')\n",
    "\n",
    "    ssim_value = ssim(volume_real_B, volume_fake_B, data_range=volume_real_B.max() - volume_real_B.min())\n",
    "    psnr_value = psnr(volume_real_B, volume_fake_B)\n",
    "\n",
    "    ssim_values.append(ssim_value)\n",
    "    psnr_values.append(psnr_value)\n",
    "\n",
    "promedio_ssim = np.mean(ssim_values)\n",
    "desviacion_estandar_ssim = np.std(ssim_values)\n",
    "print(f\"SSIM Promedio: {promedio_ssim:.3f}, Desviación Estándar SSIM: {desviacion_estandar_ssim:.3f}\")\n",
    "\n",
    "promedio_psnr = np.mean(psnr_values)\n",
    "desviacion_estandar_psnr = np.std(psnr_values)\n",
    "print(f\"PSNR Promedio: {promedio_psnr:.3f}, Desviación Estándar PSNR: {desviacion_estandar_psnr:.3f}\")"
   ]
  },
  {
   "cell_type": "code",
   "execution_count": 28,
   "id": "1d1daf58-f077-47ee-9341-54fdaa10eafd",
   "metadata": {},
   "outputs": [
    {
     "name": "stdout",
     "output_type": "stream",
     "text": [
      "MS-SSIM Promedio: 0.879, Desviación Estándar MS-SSIM: 0.021\n"
     ]
    }
   ],
   "source": [
    "#Cálculo del MS-SSIM\n",
    "ms_ssim_values = []\n",
    "\n",
    "for id_paciente in lista_pacientes_visible:\n",
    "    archivos_real_B = sorted(Path(f'results/p2p_esp_NCCT2DWI/test_latest/images_grayscale/real_B/{id_paciente}').glob(\"*.png\"))\n",
    "    archivos_fake_B = sorted(Path(f'results/p2p_esp_NCCT2DWI/test_latest/images_grayscale/fake_B/{id_paciente}').glob(\"*.png\"))\n",
    "\n",
    "    imagenes_real_B = [to_tensor(Image.open(str(f))) for f in archivos_real_B]\n",
    "    imagenes_fake_B = [to_tensor(Image.open(str(f))) for f in archivos_fake_B]\n",
    "\n",
    "    for i, img in enumerate(imagenes_real_B):\n",
    "        assert img.shape == (1, 256, 256), f\"Image {i} in real_B has shape {img.shape}\"\n",
    "    for i, img in enumerate(imagenes_fake_B):\n",
    "        assert img.shape == (1, 256, 256), f\"Image {i} in fake_B has shape {img.shape}\"\n",
    "\n",
    "    volume_real_B = torch.stack(imagenes_real_B, dim=0)\n",
    "    volume_fake_B = torch.stack(imagenes_fake_B, dim=0)\n",
    "\n",
    "    ms_ssim_value = ms_ssim(volume_fake_B, volume_real_B)\n",
    "    ms_ssim_values.append(ms_ssim_value) \n",
    "    #print(f\"Paciente: {id_paciente}, MS-SSIM: {ms_ssim_value:.4f}\")\n",
    "\n",
    "# Calcular promedio y desviación estándar para MS-SSIM\n",
    "promedio_ms_ssim = np.mean(ms_ssim_values)\n",
    "desviacion_estandar_ms_ssim = np.std(ms_ssim_values)\n",
    "print(f\"MS-SSIM Promedio: {promedio_ms_ssim:.3f}, Desviación Estándar MS-SSIM: {desviacion_estandar_ms_ssim:.3f}\")"
   ]
  },
  {
   "cell_type": "markdown",
   "id": "14ff732a-d407-4408-83f4-06767065feec",
   "metadata": {},
   "source": [
    "# **NO es visible**"
   ]
  },
  {
   "cell_type": "code",
   "execution_count": 29,
   "id": "d4bd3d42-4b77-4c3f-80c7-9205fb556055",
   "metadata": {},
   "outputs": [
    {
     "name": "stdout",
     "output_type": "stream",
     "text": [
      "SSIM Promedio: 0.868, Desviación Estándar SSIM: 0.050\n",
      "PSNR Promedio: 21.105, Desviación Estándar PSNR: 2.912\n"
     ]
    }
   ],
   "source": [
    "lista_pacientes_no_visible = [\"000\",\n",
    "\"002\",\n",
    "\"008\",\n",
    "\"010\",\n",
    "\"012\",\n",
    "\"013\",\n",
    "\"014\",\n",
    "\"016\",\n",
    "\"025\",\n",
    "\"026\",\n",
    "\"027\",\n",
    "\"028\",\n",
    "\"032\",\n",
    "\"033\",\n",
    "\"035\",\n",
    "\"036\"\n",
    "]\n",
    "\n",
    "ssim_values = []\n",
    "psnr_values = []\n",
    "\n",
    "for id_paciente in lista_pacientes_no_visible:\n",
    "    volume_real_B = np.load(f'volume_real_{id_paciente}.npy')\n",
    "    volume_fake_B = np.load(f'volume_fake_{id_paciente}.npy')\n",
    "\n",
    "    ssim_value = ssim(volume_real_B, volume_fake_B, data_range=volume_real_B.max() - volume_real_B.min())\n",
    "    psnr_value = psnr(volume_real_B, volume_fake_B)\n",
    "\n",
    "    ssim_values.append(ssim_value)\n",
    "    psnr_values.append(psnr_value)\n",
    "\n",
    "promedio_ssim = np.mean(ssim_values)\n",
    "desviacion_estandar_ssim = np.std(ssim_values)\n",
    "print(f\"SSIM Promedio: {promedio_ssim:.3f}, Desviación Estándar SSIM: {desviacion_estandar_ssim:.3f}\")\n",
    "\n",
    "promedio_psnr = np.mean(psnr_values)\n",
    "desviacion_estandar_psnr = np.std(psnr_values)\n",
    "print(f\"PSNR Promedio: {promedio_psnr:.3f}, Desviación Estándar PSNR: {desviacion_estandar_psnr:.3f}\")"
   ]
  },
  {
   "cell_type": "code",
   "execution_count": 30,
   "id": "3e35fc58-a9de-4140-9fe9-c7acdd3e366f",
   "metadata": {},
   "outputs": [
    {
     "name": "stdout",
     "output_type": "stream",
     "text": [
      "MS-SSIM Promedio: 0.862, Desviación Estándar MS-SSIM: 0.078\n"
     ]
    }
   ],
   "source": [
    "#Cálculo del MS-SSIM\n",
    "ms_ssim_values = []\n",
    "\n",
    "for id_paciente in lista_pacientes_no_visible:\n",
    "    archivos_real_B = sorted(Path(f'results/p2p_esp_NCCT2DWI/test_latest/images_grayscale/real_B/{id_paciente}').glob(\"*.png\"))\n",
    "    archivos_fake_B = sorted(Path(f'results/p2p_esp_NCCT2DWI/test_latest/images_grayscale/fake_B/{id_paciente}').glob(\"*.png\"))\n",
    "\n",
    "    imagenes_real_B = [to_tensor(Image.open(str(f))) for f in archivos_real_B]\n",
    "    imagenes_fake_B = [to_tensor(Image.open(str(f))) for f in archivos_fake_B]\n",
    "\n",
    "    for i, img in enumerate(imagenes_real_B):\n",
    "        assert img.shape == (1, 256, 256), f\"Image {i} in real_B has shape {img.shape}\"\n",
    "    for i, img in enumerate(imagenes_fake_B):\n",
    "        assert img.shape == (1, 256, 256), f\"Image {i} in fake_B has shape {img.shape}\"\n",
    "\n",
    "    volume_real_B = torch.stack(imagenes_real_B, dim=0)\n",
    "    volume_fake_B = torch.stack(imagenes_fake_B, dim=0)\n",
    "\n",
    "    ms_ssim_value = ms_ssim(volume_fake_B, volume_real_B)\n",
    "    ms_ssim_values.append(ms_ssim_value) \n",
    "    #print(f\"Paciente: {id_paciente}, MS-SSIM: {ms_ssim_value:.4f}\")\n",
    "\n",
    "# Calcular promedio y desviación estándar para MS-SSIM\n",
    "promedio_ms_ssim = np.mean(ms_ssim_values)\n",
    "desviacion_estandar_ms_ssim = np.std(ms_ssim_values)\n",
    "print(f\"MS-SSIM Promedio: {promedio_ms_ssim:.3f}, Desviación Estándar MS-SSIM: {desviacion_estandar_ms_ssim:.3f}\")"
   ]
  },
  {
   "cell_type": "markdown",
   "id": "4a342db7-01a1-40e0-acfe-edbd224db89b",
   "metadata": {},
   "source": [
    "# **TIEMPO DESDE EL INICIO DE LOS SÍNTOMAS**"
   ]
  },
  {
   "cell_type": "markdown",
   "id": "165b8428-d7d6-4eb5-9507-d8a6bc901b19",
   "metadata": {},
   "source": [
    "# **Wake-up (desconocido)**"
   ]
  },
  {
   "cell_type": "code",
   "execution_count": 31,
   "id": "60817d35-816f-4cb4-a366-67f1f11bcdc2",
   "metadata": {},
   "outputs": [
    {
     "name": "stdout",
     "output_type": "stream",
     "text": [
      "SSIM Promedio: 0.882, Desviación Estándar SSIM: 0.023\n",
      "PSNR Promedio: 22.769, Desviación Estándar PSNR: 0.561\n"
     ]
    }
   ],
   "source": [
    "lista_pacientes_desc = [\"005\",\n",
    "\"014\",\n",
    "\"024\",\n",
    "\"030\",\n",
    "\"034\"\n",
    "]\n",
    "\n",
    "ssim_values = []\n",
    "psnr_values = []\n",
    "\n",
    "for id_paciente in lista_pacientes_desc:\n",
    "    volume_real_B = np.load(f'volume_real_{id_paciente}.npy')\n",
    "    volume_fake_B = np.load(f'volume_fake_{id_paciente}.npy')\n",
    "\n",
    "    ssim_value = ssim(volume_real_B, volume_fake_B, data_range=volume_real_B.max() - volume_real_B.min())\n",
    "    psnr_value = psnr(volume_real_B, volume_fake_B)\n",
    "\n",
    "    ssim_values.append(ssim_value)\n",
    "    psnr_values.append(psnr_value)\n",
    "\n",
    "promedio_ssim = np.mean(ssim_values)\n",
    "desviacion_estandar_ssim = np.std(ssim_values)\n",
    "print(f\"SSIM Promedio: {promedio_ssim:.3f}, Desviación Estándar SSIM: {desviacion_estandar_ssim:.3f}\")\n",
    "\n",
    "promedio_psnr = np.mean(psnr_values)\n",
    "desviacion_estandar_psnr = np.std(psnr_values)\n",
    "print(f\"PSNR Promedio: {promedio_psnr:.3f}, Desviación Estándar PSNR: {desviacion_estandar_psnr:.3f}\")"
   ]
  },
  {
   "cell_type": "code",
   "execution_count": 32,
   "id": "460dacda-0fc0-4e41-a3cf-055778600271",
   "metadata": {},
   "outputs": [
    {
     "name": "stdout",
     "output_type": "stream",
     "text": [
      "MS-SSIM Promedio: 0.884, Desviación Estándar MS-SSIM: 0.019\n"
     ]
    }
   ],
   "source": [
    "#Cálculo del MS-SSIM\n",
    "ms_ssim_values = []\n",
    "\n",
    "for id_paciente in lista_pacientes_desc:\n",
    "    archivos_real_B = sorted(Path(f'results/p2p_esp_NCCT2DWI/test_latest/images_grayscale/real_B/{id_paciente}').glob(\"*.png\"))\n",
    "    archivos_fake_B = sorted(Path(f'results/p2p_esp_NCCT2DWI/test_latest/images_grayscale/fake_B/{id_paciente}').glob(\"*.png\"))\n",
    "\n",
    "    imagenes_real_B = [to_tensor(Image.open(str(f))) for f in archivos_real_B]\n",
    "    imagenes_fake_B = [to_tensor(Image.open(str(f))) for f in archivos_fake_B]\n",
    "\n",
    "    for i, img in enumerate(imagenes_real_B):\n",
    "        assert img.shape == (1, 256, 256), f\"Image {i} in real_B has shape {img.shape}\"\n",
    "    for i, img in enumerate(imagenes_fake_B):\n",
    "        assert img.shape == (1, 256, 256), f\"Image {i} in fake_B has shape {img.shape}\"\n",
    "\n",
    "    volume_real_B = torch.stack(imagenes_real_B, dim=0)\n",
    "    volume_fake_B = torch.stack(imagenes_fake_B, dim=0)\n",
    "\n",
    "    ms_ssim_value = ms_ssim(volume_fake_B, volume_real_B)\n",
    "    ms_ssim_values.append(ms_ssim_value) \n",
    "    #print(f\"Paciente: {id_paciente}, MS-SSIM: {ms_ssim_value:.4f}\")\n",
    "\n",
    "# Calcular promedio y desviación estándar para MS-SSIM\n",
    "promedio_ms_ssim = np.mean(ms_ssim_values)\n",
    "desviacion_estandar_ms_ssim = np.std(ms_ssim_values)\n",
    "print(f\"MS-SSIM Promedio: {promedio_ms_ssim:.3f}, Desviación Estándar MS-SSIM: {desviacion_estandar_ms_ssim:.3f}\")"
   ]
  },
  {
   "cell_type": "markdown",
   "id": "7e4da19d-5978-4f34-bd64-757f867c9913",
   "metadata": {},
   "source": [
    "# **Early hyperacute (0-6h)***"
   ]
  },
  {
   "cell_type": "code",
   "execution_count": 33,
   "id": "667f0209-6e72-4e39-8644-fb915676f717",
   "metadata": {},
   "outputs": [
    {
     "name": "stdout",
     "output_type": "stream",
     "text": [
      "SSIM Promedio: 0.882, Desviación Estándar SSIM: 0.015\n",
      "PSNR Promedio: 21.882, Desviación Estándar PSNR: 0.941\n"
     ]
    }
   ],
   "source": [
    "lista_pacientes_early = [\"000\",\n",
    "\"001\",\n",
    "\"003\",\n",
    "\"008\",\n",
    "\"013\",\n",
    "\"017\",\n",
    "\"018\",\n",
    "\"022\",\n",
    "\"026\",\n",
    "\"028\",\n",
    "\"029\",\n",
    "\"031\",\n",
    "\"032\",\n",
    "\"033\",\n",
    "\"036\"\n",
    "]\n",
    "\n",
    "ssim_values = []\n",
    "psnr_values = []\n",
    "\n",
    "for id_paciente in lista_pacientes_early:\n",
    "    volume_real_B = np.load(f'volume_real_{id_paciente}.npy')\n",
    "    volume_fake_B = np.load(f'volume_fake_{id_paciente}.npy')\n",
    "\n",
    "    ssim_value = ssim(volume_real_B, volume_fake_B, data_range=volume_real_B.max() - volume_real_B.min())\n",
    "    psnr_value = psnr(volume_real_B, volume_fake_B)\n",
    "\n",
    "    ssim_values.append(ssim_value)\n",
    "    psnr_values.append(psnr_value)\n",
    "\n",
    "promedio_ssim = np.mean(ssim_values)\n",
    "desviacion_estandar_ssim = np.std(ssim_values)\n",
    "print(f\"SSIM Promedio: {promedio_ssim:.3f}, Desviación Estándar SSIM: {desviacion_estandar_ssim:.3f}\")\n",
    "\n",
    "promedio_psnr = np.mean(psnr_values)\n",
    "desviacion_estandar_psnr = np.std(psnr_values)\n",
    "print(f\"PSNR Promedio: {promedio_psnr:.3f}, Desviación Estándar PSNR: {desviacion_estandar_psnr:.3f}\")"
   ]
  },
  {
   "cell_type": "code",
   "execution_count": 34,
   "id": "dcbc0fcb-3302-433e-b5c6-ce26084c726a",
   "metadata": {},
   "outputs": [
    {
     "name": "stdout",
     "output_type": "stream",
     "text": [
      "MS-SSIM Promedio: 0.881, Desviación Estándar MS-SSIM: 0.022\n"
     ]
    }
   ],
   "source": [
    "#Cálculo del MS-SSIM\n",
    "ms_ssim_values = []\n",
    "\n",
    "for id_paciente in lista_pacientes_early:\n",
    "    archivos_real_B = sorted(Path(f'results/p2p_esp_NCCT2DWI/test_latest/images_grayscale/real_B/{id_paciente}').glob(\"*.png\"))\n",
    "    archivos_fake_B = sorted(Path(f'results/p2p_esp_NCCT2DWI/test_latest/images_grayscale/fake_B/{id_paciente}').glob(\"*.png\"))\n",
    "\n",
    "    imagenes_real_B = [to_tensor(Image.open(str(f))) for f in archivos_real_B]\n",
    "    imagenes_fake_B = [to_tensor(Image.open(str(f))) for f in archivos_fake_B]\n",
    "\n",
    "    for i, img in enumerate(imagenes_real_B):\n",
    "        assert img.shape == (1, 256, 256), f\"Image {i} in real_B has shape {img.shape}\"\n",
    "    for i, img in enumerate(imagenes_fake_B):\n",
    "        assert img.shape == (1, 256, 256), f\"Image {i} in fake_B has shape {img.shape}\"\n",
    "\n",
    "    volume_real_B = torch.stack(imagenes_real_B, dim=0)\n",
    "    volume_fake_B = torch.stack(imagenes_fake_B, dim=0)\n",
    "\n",
    "    ms_ssim_value = ms_ssim(volume_fake_B, volume_real_B)\n",
    "    ms_ssim_values.append(ms_ssim_value) \n",
    "    #print(f\"Paciente: {id_paciente}, MS-SSIM: {ms_ssim_value:.4f}\")\n",
    "\n",
    "# Calcular promedio y desviación estándar para MS-SSIM\n",
    "promedio_ms_ssim = np.mean(ms_ssim_values)\n",
    "desviacion_estandar_ms_ssim = np.std(ms_ssim_values)\n",
    "print(f\"MS-SSIM Promedio: {promedio_ms_ssim:.3f}, Desviación Estándar MS-SSIM: {desviacion_estandar_ms_ssim:.3f}\")"
   ]
  },
  {
   "cell_type": "markdown",
   "id": "8c4aaffa-3821-4e9d-8180-c3b71c393867",
   "metadata": {},
   "source": [
    "# **Late hyperacute (6-24h)**\r\n"
   ]
  },
  {
   "cell_type": "code",
   "execution_count": 35,
   "id": "111ebdc1-feab-462a-8297-c8cc266e88d3",
   "metadata": {},
   "outputs": [
    {
     "name": "stdout",
     "output_type": "stream",
     "text": [
      "SSIM Promedio: 0.883, Desviación Estándar SSIM: 0.020\n",
      "PSNR Promedio: 21.891, Desviación Estándar PSNR: 0.716\n"
     ]
    }
   ],
   "source": [
    "lista_pacientes_late = [\"002\",\n",
    "\"004\",\n",
    "\"006\",\n",
    "\"007\",\n",
    "\"009\",\n",
    "\"010\",\n",
    "\"011\",\n",
    "\"012\",\n",
    "\"015\",\n",
    "\"020\",\n",
    "\"021\",\n",
    "\"037\"\n",
    "]\n",
    "\n",
    "ssim_values = []\n",
    "psnr_values = []\n",
    "\n",
    "for id_paciente in lista_pacientes_late:\n",
    "    volume_real_B = np.load(f'volume_real_{id_paciente}.npy')\n",
    "    volume_fake_B = np.load(f'volume_fake_{id_paciente}.npy')\n",
    "\n",
    "    ssim_value = ssim(volume_real_B, volume_fake_B, data_range=volume_real_B.max() - volume_real_B.min())\n",
    "    psnr_value = psnr(volume_real_B, volume_fake_B)\n",
    "\n",
    "    ssim_values.append(ssim_value)\n",
    "    psnr_values.append(psnr_value)\n",
    "\n",
    "promedio_ssim = np.mean(ssim_values)\n",
    "desviacion_estandar_ssim = np.std(ssim_values)\n",
    "print(f\"SSIM Promedio: {promedio_ssim:.3f}, Desviación Estándar SSIM: {desviacion_estandar_ssim:.3f}\")\n",
    "\n",
    "promedio_psnr = np.mean(psnr_values)\n",
    "desviacion_estandar_psnr = np.std(psnr_values)\n",
    "print(f\"PSNR Promedio: {promedio_psnr:.3f}, Desviación Estándar PSNR: {desviacion_estandar_psnr:.3f}\")"
   ]
  },
  {
   "cell_type": "code",
   "execution_count": 36,
   "id": "591a5182-7aaa-42f3-b675-718f01e59050",
   "metadata": {},
   "outputs": [
    {
     "name": "stdout",
     "output_type": "stream",
     "text": [
      "MS-SSIM Promedio: 0.886, Desviación Estándar MS-SSIM: 0.022\n"
     ]
    }
   ],
   "source": [
    "#Cálculo del MS-SSIM\n",
    "ms_ssim_values = []\n",
    "\n",
    "for id_paciente in lista_pacientes_late:\n",
    "    archivos_real_B = sorted(Path(f'results/p2p_esp_NCCT2DWI/test_latest/images_grayscale/real_B/{id_paciente}').glob(\"*.png\"))\n",
    "    archivos_fake_B = sorted(Path(f'results/p2p_esp_NCCT2DWI/test_latest/images_grayscale/fake_B/{id_paciente}').glob(\"*.png\"))\n",
    "\n",
    "    imagenes_real_B = [to_tensor(Image.open(str(f))) for f in archivos_real_B]\n",
    "    imagenes_fake_B = [to_tensor(Image.open(str(f))) for f in archivos_fake_B]\n",
    "\n",
    "    for i, img in enumerate(imagenes_real_B):\n",
    "        assert img.shape == (1, 256, 256), f\"Image {i} in real_B has shape {img.shape}\"\n",
    "    for i, img in enumerate(imagenes_fake_B):\n",
    "        assert img.shape == (1, 256, 256), f\"Image {i} in fake_B has shape {img.shape}\"\n",
    "\n",
    "    volume_real_B = torch.stack(imagenes_real_B, dim=0)\n",
    "    volume_fake_B = torch.stack(imagenes_fake_B, dim=0)\n",
    "\n",
    "    ms_ssim_value = ms_ssim(volume_fake_B, volume_real_B)\n",
    "    ms_ssim_values.append(ms_ssim_value) \n",
    "    #print(f\"Paciente: {id_paciente}, MS-SSIM: {ms_ssim_value:.4f}\")\n",
    "\n",
    "# Calcular promedio y desviación estándar para MS-SSIM\n",
    "promedio_ms_ssim = np.mean(ms_ssim_values)\n",
    "desviacion_estandar_ms_ssim = np.std(ms_ssim_values)\n",
    "print(f\"MS-SSIM Promedio: {promedio_ms_ssim:.3f}, Desviación Estándar MS-SSIM: {desviacion_estandar_ms_ssim:.3f}\")"
   ]
  },
  {
   "cell_type": "markdown",
   "id": "9de24e87-f8d4-4cd3-9501-0ccd65692a55",
   "metadata": {},
   "source": [
    "# **Acute (24-96)**\n"
   ]
  },
  {
   "cell_type": "code",
   "execution_count": 37,
   "id": "0675990b-91cd-4c4d-932f-ce842d940915",
   "metadata": {},
   "outputs": [
    {
     "name": "stdout",
     "output_type": "stream",
     "text": [
      "SSIM Promedio: 0.838, Desviación Estándar SSIM: 0.068\n",
      "PSNR Promedio: 19.917, Desviación Estándar PSNR: 3.876\n"
     ]
    }
   ],
   "source": [
    "lista_pacientes_acute = [\"016\",\n",
    "\"019\",\n",
    "\"023\",\n",
    "\"025\"\n",
    "]\n",
    "\n",
    "ssim_values = []\n",
    "psnr_values = []\n",
    "\n",
    "for id_paciente in lista_pacientes_acute:\n",
    "    volume_real_B = np.load(f'volume_real_{id_paciente}.npy')\n",
    "    volume_fake_B = np.load(f'volume_fake_{id_paciente}.npy')\n",
    "\n",
    "    ssim_value = ssim(volume_real_B, volume_fake_B, data_range=volume_real_B.max() - volume_real_B.min())\n",
    "    psnr_value = psnr(volume_real_B, volume_fake_B)\n",
    "\n",
    "    ssim_values.append(ssim_value)\n",
    "    psnr_values.append(psnr_value)\n",
    "\n",
    "promedio_ssim = np.mean(ssim_values)\n",
    "desviacion_estandar_ssim = np.std(ssim_values)\n",
    "print(f\"SSIM Promedio: {promedio_ssim:.3f}, Desviación Estándar SSIM: {desviacion_estandar_ssim:.3f}\")\n",
    "\n",
    "promedio_psnr = np.mean(psnr_values)\n",
    "desviacion_estandar_psnr = np.std(psnr_values)\n",
    "print(f\"PSNR Promedio: {promedio_psnr:.3f}, Desviación Estándar PSNR: {desviacion_estandar_psnr:.3f}\")"
   ]
  },
  {
   "cell_type": "code",
   "execution_count": 38,
   "id": "cce9614c-54b9-41f7-a98d-bed74cb0acfa",
   "metadata": {},
   "outputs": [
    {
     "name": "stdout",
     "output_type": "stream",
     "text": [
      "MS-SSIM Promedio: 0.831, Desviación Estándar MS-SSIM: 0.101\n"
     ]
    }
   ],
   "source": [
    "#Cálculo del MS-SSIM\n",
    "ms_ssim_values = []\n",
    "\n",
    "for id_paciente in lista_pacientes_acute:\n",
    "    archivos_real_B = sorted(Path(f'results/p2p_esp_NCCT2DWI/test_latest/images_grayscale/real_B/{id_paciente}').glob(\"*.png\"))\n",
    "    archivos_fake_B = sorted(Path(f'results/p2p_esp_NCCT2DWI/test_latest/images_grayscale/fake_B/{id_paciente}').glob(\"*.png\"))\n",
    "\n",
    "    imagenes_real_B = [to_tensor(Image.open(str(f))) for f in archivos_real_B]\n",
    "    imagenes_fake_B = [to_tensor(Image.open(str(f))) for f in archivos_fake_B]\n",
    "\n",
    "    for i, img in enumerate(imagenes_real_B):\n",
    "        assert img.shape == (1, 256, 256), f\"Image {i} in real_B has shape {img.shape}\"\n",
    "    for i, img in enumerate(imagenes_fake_B):\n",
    "        assert img.shape == (1, 256, 256), f\"Image {i} in fake_B has shape {img.shape}\"\n",
    "\n",
    "    volume_real_B = torch.stack(imagenes_real_B, dim=0)\n",
    "    volume_fake_B = torch.stack(imagenes_fake_B, dim=0)\n",
    "\n",
    "    ms_ssim_value = ms_ssim(volume_fake_B, volume_real_B)\n",
    "    ms_ssim_values.append(ms_ssim_value) \n",
    "    #print(f\"Paciente: {id_paciente}, MS-SSIM: {ms_ssim_value:.4f}\")\n",
    "\n",
    "# Calcular promedio y desviación estándar para MS-SSIM\n",
    "promedio_ms_ssim = np.mean(ms_ssim_values)\n",
    "desviacion_estandar_ms_ssim = np.std(ms_ssim_values)\n",
    "print(f\"MS-SSIM Promedio: {promedio_ms_ssim:.3f}, Desviación Estándar MS-SSIM: {desviacion_estandar_ms_ssim:.3f}\")"
   ]
  },
  {
   "cell_type": "markdown",
   "id": "26da392e-c18d-4388-b237-375877e65feb",
   "metadata": {},
   "source": [
    "## **FID (Frequent Inception Distance)**"
   ]
  },
  {
   "cell_type": "code",
   "execution_count": null,
   "id": "eae7bee3-642c-4528-9bdf-897eecc78260",
   "metadata": {},
   "outputs": [],
   "source": [
    "imagen_real = Image.open('results/p2p_basic_NCCT2ADC/test_latest/images/real_B/022/test_022_011_real_B.png')\n",
    "imagen_fake = Image.open('results/p2p_basic_NCCT2ADC/test_latest/images/fake_B/022/test_022_011_fake_B.png')"
   ]
  }
 ],
 "metadata": {
  "kernelspec": {
   "display_name": "Python 3 (ipykernel)",
   "language": "python",
   "name": "python3"
  },
  "language_info": {
   "codemirror_mode": {
    "name": "ipython",
    "version": 3
   },
   "file_extension": ".py",
   "mimetype": "text/x-python",
   "name": "python",
   "nbconvert_exporter": "python",
   "pygments_lexer": "ipython3",
   "version": "3.10.13"
  }
 },
 "nbformat": 4,
 "nbformat_minor": 5
}
