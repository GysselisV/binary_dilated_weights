{
 "cells": [
  {
   "cell_type": "markdown",
   "id": "94d93bd3-fab1-48eb-aadb-7a07c8eba003",
   "metadata": {},
   "source": [
    "# Dicom modification "
   ]
  },
  {
   "cell_type": "code",
   "execution_count": null,
   "id": "81eab604-4c2e-4f08-9b8b-c80221d41d76",
   "metadata": {},
   "outputs": [],
   "source": [
    "radiologists = ['Andres', 'Daniel']\n",
    "experiment_keyword = 'MASK_DELINEATION'\n",
    "\n",
    "selected_patients = [\n",
    "    'ACV-185',\n",
    "    'ACV-187',\n",
    "    'ACV-191',\n",
    "    'ACV-192',\n",
    "    'ACV-193',\n",
    "    'ACV-196',\n",
    "    'ACV-202',\n",
    "    'ACV-204',\n",
    "    'ACV-205',\n",
    "    'ACV-228',\n",
    "    'ACV-232',\n",
    "    ]"
   ]
  },
  {
   "cell_type": "code",
   "execution_count": null,
   "id": "3017daba-a126-459c-8fcd-cb689912b3ed",
   "metadata": {},
   "outputs": [],
   "source": [
    "from pydicom.fileset import FileSet\n",
    "import numpy as np\n",
    "import os\n",
    "from tqdm import tqdm\n",
    "import pydicom\n",
    "import pydicom_seg\n",
    "import subprocess\n",
    "import SimpleITK as sitk\n",
    "import nibabel as nib\n",
    "from copy import deepcopy\n",
    "import logging\n",
    "from glob import glob\n",
    "from pathlib import Path\n",
    "\n",
    "data_path = Path('/data/Datasets/stroke/Foscal_uploaded_data/ZIP DICOM/')\n",
    "dump_dir = Path('/data/sangohe_pupils/srazul/dicomdump')\n",
    "radiologists = ['Andres', 'Daniel']\n",
    "\n",
    "\n",
    "def get_image_id(path, patient_id):\n",
    "    \"\"\" Gets an id from a folder full of files formated as follow\n",
    "    <prefix><id><suffix>\n",
    "    where id is a number of 6 digits\n",
    "    \"\"\"\n",
    "    prefix = str(patient_id) + '-'\n",
    "    suffix = '.dcm'\n",
    "    # TODO: this has to be fixed since is relies on a hardcoded value\n",
    "    id_list = [int(p.split('-')[-1].replace(suffix,  '')) for p in  os.listdir(path)]\n",
    "    if not id_list:\n",
    "        cur_id = '{0:06d}'.format(0)\n",
    "    else: \n",
    "        last_id = max(id_list)\n",
    "        cur_id = '{0:06d}'.format(last_id + 1)\n",
    "    \n",
    "    return f'{prefix}{cur_id}{suffix}'\n",
    "\n",
    "   \n",
    "def main():\n",
    "    \"\"\" Changes the name of the patients for the name of a doctor an the\n",
    "    number of the patient and saves the resultant dicoms in a folder\n",
    "    \"\"\"\n",
    "\n",
    "    for rad in radiologists:\n",
    "        output_dir = dump_dir / rad\n",
    "        output_dir.mkdir(exist_ok=True)\n",
    "        for patient_id in tqdm([p for p in os.listdir(data_path) if p in selected_patients], f'rad: {rad}'):\n",
    "            pat_path = data_path / patient_id\n",
    "            dicomdir_list = glob(f'{pat_path}/**/DICOMDIR')\n",
    "            for dicomdir in dicomdir_list:\n",
    "                check = FileSet(dicomdir)\n",
    "                for instance in check:\n",
    "                    temp = instance.load()\n",
    "                    #pname = str(instance.PatientName).replace('ACV', rad)\n",
    "                    temp.PatientID = rad\n",
    "                    temp.StudyDescription = experiment_keyword\n",
    "                    modality = temp.modality.replace(' ', '_')\n",
    "                    img_output_file = Path(os.path.join(output_dir, modality, get_image_id(output_dir, patient_id)))\n",
    "                    img_output_file.mkdir(exist_ok = True)\n",
    "                    temp.save_as(img_output_file)\n",
    "                    return 0\n",
    "main()"
   ]
  }
 ],
 "metadata": {
  "kernelspec": {
   "display_name": "Python 3 (ipykernel)",
   "language": "python",
   "name": "python3"
  },
  "language_info": {
   "codemirror_mode": {
    "name": "ipython",
    "version": 3
   },
   "file_extension": ".py",
   "mimetype": "text/x-python",
   "name": "python",
   "nbconvert_exporter": "python",
   "pygments_lexer": "ipython3",
   "version": "3.10.9"
  }
 },
 "nbformat": 4,
 "nbformat_minor": 5
}
